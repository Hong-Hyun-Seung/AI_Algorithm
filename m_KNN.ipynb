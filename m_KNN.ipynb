{
 "cells": [
  {
   "cell_type": "code",
   "execution_count": 1,
   "metadata": {},
   "outputs": [],
   "source": [
    "import math\n",
    "import numpy as np"
   ]
  },
  {
   "cell_type": "code",
   "execution_count": 2,
   "metadata": {},
   "outputs": [],
   "source": [
    "flowers = {0: 'Setosa', 1: 'Versicolor', 2:'Virginica'}"
   ]
  },
  {
   "cell_type": "markdown",
   "metadata": {},
   "source": [
    "### 밑은 두개의 numpy배열의 euclidian거리를 구하는 코드"
   ]
  },
  {
   "cell_type": "code",
   "execution_count": 3,
   "metadata": {},
   "outputs": [],
   "source": [
    "def distance(p1, p2):\n",
    "    p1 = np.array(p1)\n",
    "    p2 = np.array(p2)\n",
    "    return np.sqrt(np.sum(np.power((p2-p1),2)))"
   ]
  },
  {
   "cell_type": "markdown",
   "metadata": {},
   "source": [
    "### 밑은, list안에서 가장 빈번한 값이 무엇인지 voting하는 코드"
   ]
  },
  {
   "cell_type": "code",
   "execution_count": 4,
   "metadata": {},
   "outputs": [],
   "source": [
    "def majority_vote(list):\n",
    "    count = 0\n",
    "    mode = 0\n",
    "    for x in list: \n",
    "        if list.count(x) > count:\n",
    "            count = list.count(x)\n",
    "            mode = x\n",
    "\n",
    "    return mode"
   ]
  },
  {
   "cell_type": "markdown",
   "metadata": {},
   "source": [
    "### 밑은, traindata와의 거리를 구하고(주석 1), <br>거리가 작은것이 먼저 오게 sorting하고(주석 2), <br> 거리가 작은것 중 앞에 k개 만큼 vote라는 list에 집어 넣고(주석3),<br> vote 리스트에서 가장 빈번한 값을 result에 저장하고(주석4)<br>result를 출력한다(주석5)"
   ]
  },
  {
   "cell_type": "code",
   "execution_count": 5,
   "metadata": {},
   "outputs": [],
   "source": [
    "def classify(train_data, test_data, k, train_label):\n",
    "    dist = []\n",
    "    vote = []\n",
    "    for i in range(len(train_data)):\n",
    "        dist.append(distance(train_data[i], test_data))#1\n",
    "    dist = np.array(dist)#1\n",
    "    temp = dist.argsort()#2\n",
    "    for  i in range(k):#3\n",
    "        vote.append(train_label[temp[i]])#3\n",
    "    result = majority_vote(vote)#4\n",
    "    print(\"computed class: \"+ flowers[result], end =' ')#5"
   ]
  },
  {
   "cell_type": "markdown",
   "metadata": {},
   "source": [
    "### 밑은, weighted voting방식으로, 위의 voting방식과 동일하나, k개의 결과중 가장 가까운 data에 가중치를 더 줘서<br>=>ex)k 는 3일때 가장 가까운 3 점이 setosa(젤 가깝), setosa(중간 가깝), versi(제일 멈)라면, 0.5setosa+0.3setosa+0.2versi+bias로 결과를 예측하였습니다"
   ]
  },
  {
   "cell_type": "code",
   "execution_count": 6,
   "metadata": {},
   "outputs": [],
   "source": [
    "def weighted_classify(train_data, test_data, k, train_label):\n",
    "    dist = []\n",
    "    vote = []\n",
    "    bias = 0.01\n",
    "    for i in range(len(train_data)):\n",
    "        dist.append(distance(train_data[i], test_data))\n",
    "    dist = np.array(dist)\n",
    "    temp = dist.argsort()\n",
    "    if k == 3:\n",
    "        for i in range(k):\n",
    "            vote.append(train_label[temp[i]])\n",
    "        result = int(0.5 * vote[0] + 0.3 * vote[1] + 0.2 * vote[2]+ bias)\n",
    "        print(\"computed class: \"+flowers[result], end =' ')\n",
    "    elif k == 5:\n",
    "        for i in range(k):\n",
    "            vote.append(train_label[temp[i]])\n",
    "        result = int(0.4 * vote[0] + 0.3 * vote[1] + 0.15 * vote[2] + 0.1 * vote[3] + 0.05 * vote[4]+bias)\n",
    "        print(\"computed class: \"+flowers[result], end =' ')\n",
    "    else: # k == 10일때\n",
    "        for i in range(k):\n",
    "            vote.append(train_label[temp[i]])\n",
    "        result = int(0.5 * vote[0] + 0.3 * vote[1] + 0.1 * vote[2] + 0.05 * vote[3] +0.0001* vote[4] + 0.0001 * vote[5] + 0.0001 * vote[6]+0.0001 * vote[7] +  0.0001 * vote[8] + \n",
    "                    + 0.0001 * vote[9]+bias)\n",
    "        print(\"computed class: \"+flowers[result], end =' ')"
   ]
  },
  {
   "cell_type": "code",
   "execution_count": null,
   "metadata": {},
   "outputs": [],
   "source": []
  }
 ],
 "metadata": {
  "kernelspec": {
   "display_name": "Python 3",
   "language": "python",
   "name": "python3"
  },
  "language_info": {
   "codemirror_mode": {
    "name": "ipython",
    "version": 3
   },
   "file_extension": ".py",
   "mimetype": "text/x-python",
   "name": "python",
   "nbconvert_exporter": "python",
   "pygments_lexer": "ipython3",
   "version": "3.7.7"
  }
 },
 "nbformat": 4,
 "nbformat_minor": 4
}
