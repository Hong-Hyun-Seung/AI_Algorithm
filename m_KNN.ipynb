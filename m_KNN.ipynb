{
 "cells": [
  {
   "cell_type": "code",
   "execution_count": 1,
   "metadata": {},
   "outputs": [],
   "source": [
    "import math\n",
    "import numpy as np"
   ]
  },
  {
   "cell_type": "code",
   "execution_count": 2,
   "metadata": {},
   "outputs": [],
   "source": [
    "flowers = {0: 'Setosa', 1: 'Versicolor', 2:'Virginica'}"
   ]
  },
  {
   "cell_type": "markdown",
   "metadata": {},
   "source": [
    "### 밑은 두개의 numpy배열의 euclidian거리를 구하는 코드"
   ]
  },
  {
   "cell_type": "code",
   "execution_count": 3,
   "metadata": {},
   "outputs": [],
   "source": [
    "def distance(p1, p2):\n",
    "    p1 = np.array(p1, dtype = int)\n",
    "    p2 = np.array(p2, dtype = int)\n",
    "    return np.sqrt(np.sum(np.power((p2-p1),2)))"
   ]
  },
  {
   "cell_type": "markdown",
   "metadata": {},
   "source": [
    "### 밑은, list안에서 가장 빈번한 값이 무엇인지 voting하는 코드"
   ]
  },
  {
   "cell_type": "code",
   "execution_count": 4,
   "metadata": {},
   "outputs": [],
   "source": [
    "def majority_vote(list):\n",
    "    count = 0\n",
    "    mode = 0\n",
    "    for x in list: \n",
    "        if list.count(x) > count:\n",
    "            count = list.count(x)\n",
    "            mode = x\n",
    "\n",
    "    return mode"
   ]
  },
  {
   "cell_type": "markdown",
   "metadata": {},
   "source": [
    "### 밑은, traindata와의 거리를 구하고(주석 1), <br>거리가 작은것이 먼저 오게 sorting하고(주석 2), <br> 거리가 작은것 중 앞에 k개 만큼 vote라는 list에 집어 넣고(주석3),<br> vote 리스트에서 가장 빈번한 값을 result에 저장하고(주석4)<br>result를 출력한다(주석5)"
   ]
  },
  {
   "cell_type": "markdown",
   "metadata": {},
   "source": [
    "classify(new_xtrain, new_xtest[i], 3, t_train)"
   ]
  },
  {
   "cell_type": "code",
   "execution_count": 5,
   "metadata": {},
   "outputs": [],
   "source": [
    "def classify(train_data, test_data, k, train_label):\n",
    "    dist = []\n",
    "    vote = []\n",
    "    for i in range(len(train_data)):\n",
    "        dist.append(distance(train_data[i], test_data))#1\n",
    "    dist = np.array(dist)#1\n",
    "    temp = dist.argsort()#2\n",
    "    #print(temp)\n",
    "    for  i in range(k):#3\n",
    "        vote.append(train_label[temp[i]])#3\n",
    "    print(\"vote결과는\")\n",
    "    #print(vote)\n",
    "    result = majority_vote(vote)#4\n",
    "    print(\"computed class: \", result, end =' ')#5"
   ]
  },
  {
   "cell_type": "markdown",
   "metadata": {},
   "source": [
    "### 밑은, weighted voting방식으로, vote라는 배열을 만들어 두고, ex) 가장 가까운 숫자가 \"5\"라면, vote[5]에 \"1/거리+bias\"를 더해줬습니다.(주석 1번 참고)<br>그런후, vote(list)중 가장 큰 값을 가진 index를 반환하였습니다"
   ]
  },
  {
   "cell_type": "code",
   "execution_count": 6,
   "metadata": {},
   "outputs": [],
   "source": [
    "def weighted_classify(train_data, test_data, k, train_label):\n",
    "    dist = []\n",
    "    vote = [0,0,0,0,0,0,0,0,0,0]\n",
    "    bias = 0.1\n",
    "    for i in range(len(train_data)):\n",
    "        dist.append(distance(train_data[i], test_data))\n",
    "    dist = np.array(dist)\n",
    "    temp = dist.argsort()\n",
    "    if k == 3:\n",
    "        for i in range(k):\n",
    "            vote[train_label[temp[i]]] += (1/dist[temp[i]]+bias)#주석 1번\n",
    "        result = vote.index(max(vote))\n",
    "        return result\n",
    "    elif k == 5:\n",
    "        for i in range(k):\n",
    "            vote[train_label[temp[i]]] += (1/dist[temp[i]]+bias)\n",
    "        result = vote.index(max(vote))\n",
    "        return result\n",
    "    else: # k 가 5보다 큰 경우 일때\n",
    "        for i in range(k):\n",
    "            vote[train_label[temp[i]]] += (1/dist[temp[i]]+bias)\n",
    "        result = vote.index(max(vote))\n",
    "        return result"
   ]
  }
 ],
 "metadata": {
  "kernelspec": {
   "display_name": "Python 3",
   "language": "python",
   "name": "python3"
  },
  "language_info": {
   "codemirror_mode": {
    "name": "ipython",
    "version": 3
   },
   "file_extension": ".py",
   "mimetype": "text/x-python",
   "name": "python",
   "nbconvert_exporter": "python",
   "pygments_lexer": "ipython3",
   "version": "3.7.7"
  }
 },
 "nbformat": 4,
 "nbformat_minor": 4
}
