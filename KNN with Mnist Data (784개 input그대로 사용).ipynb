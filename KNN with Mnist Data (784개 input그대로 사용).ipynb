{
 "cells": [
  {
   "cell_type": "code",
   "execution_count": 1,
   "metadata": {},
   "outputs": [],
   "source": [
    "import sys,os\n",
    "sys.path.append(os.pardir)"
   ]
  },
  {
   "cell_type": "code",
   "execution_count": 2,
   "metadata": {},
   "outputs": [],
   "source": [
    "import numpy as np\n",
    "from dataset.mnist import load_mnist"
   ]
  },
  {
   "cell_type": "code",
   "execution_count": 3,
   "metadata": {},
   "outputs": [],
   "source": [
    "from PIL import Image"
   ]
  },
  {
   "cell_type": "code",
   "execution_count": 4,
   "metadata": {},
   "outputs": [],
   "source": [
    "(x_train, t_train), (x_test, t_test) = load_mnist(flatten = True, normalize = False)"
   ]
  },
  {
   "cell_type": "code",
   "execution_count": 5,
   "metadata": {},
   "outputs": [
    {
     "name": "stdout",
     "output_type": "stream",
     "text": [
      "(784,)\n"
     ]
    }
   ],
   "source": [
    "print(x_train[0].shape)"
   ]
  },
  {
   "cell_type": "code",
   "execution_count": 6,
   "metadata": {},
   "outputs": [
    {
     "name": "stdout",
     "output_type": "stream",
     "text": [
      "(60000, 784)\n"
     ]
    }
   ],
   "source": [
    "print(x_train.shape)"
   ]
  },
  {
   "cell_type": "code",
   "execution_count": 7,
   "metadata": {},
   "outputs": [
    {
     "name": "stdout",
     "output_type": "stream",
     "text": [
      "(60000,)\n"
     ]
    }
   ],
   "source": [
    "print(t_train.shape)"
   ]
  },
  {
   "cell_type": "code",
   "execution_count": 8,
   "metadata": {},
   "outputs": [
    {
     "name": "stdout",
     "output_type": "stream",
     "text": [
      "(10000, 784)\n"
     ]
    }
   ],
   "source": [
    "print(x_test.shape)"
   ]
  },
  {
   "cell_type": "code",
   "execution_count": 9,
   "metadata": {},
   "outputs": [
    {
     "name": "stdout",
     "output_type": "stream",
     "text": [
      "(10000,)\n"
     ]
    }
   ],
   "source": [
    "print(t_test.shape)"
   ]
  },
  {
   "cell_type": "code",
   "execution_count": 10,
   "metadata": {},
   "outputs": [
    {
     "name": "stdout",
     "output_type": "stream",
     "text": [
      "importing Jupyter notebook from m_KNN.ipynb\n"
     ]
    }
   ],
   "source": [
    "import import_ipynb\n",
    "from m_KNN import classify\n",
    "from m_KNN import weighted_classify"
   ]
  },
  {
   "cell_type": "code",
   "execution_count": 11,
   "metadata": {},
   "outputs": [],
   "source": [
    "size = 100\n",
    "sample = np.random.randint(0,t_test.shape[0],size)"
   ]
  },
  {
   "cell_type": "code",
   "execution_count": 12,
   "metadata": {},
   "outputs": [
    {
     "name": "stdout",
     "output_type": "stream",
     "text": [
      "Test Data Index: 7680 computed class:  9 True class:  9\n",
      "Test Data Index: 7504 computed class:  7 True class:  7\n",
      "Test Data Index: 9196 computed class:  7 True class:  7\n",
      "Test Data Index: 6568 computed class:  9 True class:  9\n",
      "Test Data Index: 3402 computed class:  6 True class:  6\n",
      "Test Data Index: 2622 computed class:  7 True class:  7\n",
      "Test Data Index: 1568 computed class:  8 True class:  8\n",
      "Test Data Index: 7108 computed class:  5 True class:  5\n",
      "Test Data Index: 601 computed class:  8 True class:  8\n",
      "Test Data Index: 3937 computed class:  1 True class:  1\n",
      "Test Data Index: 6714 computed class:  3 True class:  3\n",
      "Test Data Index: 6259 computed class:  0 True class:  0\n",
      "Test Data Index: 644 computed class:  0 True class:  0\n",
      "Test Data Index: 3193 computed class:  3 True class:  3\n",
      "Test Data Index: 2024 computed class:  7 True class:  7\n",
      "Test Data Index: 3126 computed class:  1 True class:  1\n",
      "Test Data Index: 5896 computed class:  1 True class:  1\n",
      "Test Data Index: 466 computed class:  8 True class:  8\n",
      "Test Data Index: 1586 computed class:  3 True class:  3\n",
      "Test Data Index: 3630 computed class:  3 True class:  3\n",
      "Test Data Index: 2709 computed class:  4 True class:  4\n",
      "Test Data Index: 4416 computed class:  6 True class:  6\n",
      "Test Data Index: 4985 computed class:  2 True class:  2\n",
      "Test Data Index: 561 computed class:  0 True class:  0\n",
      "Test Data Index: 4112 computed class:  8 True class:  8\n",
      "Test Data Index: 6349 computed class:  3 True class:  3\n",
      "Test Data Index: 3588 computed class:  8 True class:  8\n",
      "Test Data Index: 3540 computed class:  0 True class:  0\n",
      "Test Data Index: 6351 computed class:  0 True class:  0\n",
      "Test Data Index: 9967 computed class:  8 True class:  8\n",
      "Test Data Index: 7809 computed class:  5 True class:  5\n",
      "Test Data Index: 1049 computed class:  2 True class:  2\n",
      "Test Data Index: 7379 computed class:  8 True class:  8\n",
      "Test Data Index: 8508 computed class:  3 True class:  3\n",
      "Test Data Index: 6465 computed class:  3 True class:  3\n",
      "Test Data Index: 7468 computed class:  1 True class:  1\n",
      "Test Data Index: 9770 computed class:  0 True class:  5\n",
      "Test Data Index: 1098 computed class:  3 True class:  3\n",
      "Test Data Index: 1351 computed class:  1 True class:  1\n",
      "Test Data Index: 6829 computed class:  1 True class:  1\n",
      "Test Data Index: 8710 computed class:  5 True class:  5\n",
      "Test Data Index: 8367 computed class:  1 True class:  1\n",
      "Test Data Index: 859 computed class:  7 True class:  7\n",
      "Test Data Index: 7814 computed class:  8 True class:  8\n",
      "Test Data Index: 5818 computed class:  0 True class:  0\n",
      "Test Data Index: 9294 computed class:  7 True class:  7\n",
      "Test Data Index: 5207 computed class:  5 True class:  5\n",
      "Test Data Index: 1374 computed class:  2 True class:  2\n",
      "Test Data Index: 7630 computed class:  5 True class:  5\n",
      "Test Data Index: 9775 computed class:  6 True class:  6\n",
      "Test Data Index: 1506 computed class:  2 True class:  2\n",
      "Test Data Index: 2862 computed class:  8 True class:  8\n",
      "Test Data Index: 1334 computed class:  5 True class:  5\n",
      "Test Data Index: 6500 computed class:  5 True class:  5\n",
      "Test Data Index: 998 computed class:  8 True class:  8\n",
      "Test Data Index: 5586 computed class:  0 True class:  8\n",
      "Test Data Index: 9238 computed class:  3 True class:  3\n",
      "Test Data Index: 1853 computed class:  9 True class:  9\n",
      "Test Data Index: 4206 computed class:  2 True class:  2\n",
      "Test Data Index: 274 computed class:  9 True class:  9\n",
      "Test Data Index: 8709 computed class:  4 True class:  4\n",
      "Test Data Index: 6811 computed class:  3 True class:  3\n",
      "Test Data Index: 3550 computed class:  6 True class:  6\n",
      "Test Data Index: 9078 computed class:  8 True class:  8\n",
      "Test Data Index: 4721 computed class:  4 True class:  4\n",
      "Test Data Index: 9924 computed class:  9 True class:  9\n",
      "Test Data Index: 5815 computed class:  3 True class:  3\n",
      "Test Data Index: 538 computed class:  8 True class:  8\n",
      "Test Data Index: 6511 computed class:  3 True class:  3\n",
      "Test Data Index: 7444 computed class:  8 True class:  8\n",
      "Test Data Index: 1889 computed class:  3 True class:  3\n",
      "Test Data Index: 325 computed class:  4 True class:  4\n",
      "Test Data Index: 5401 computed class:  6 True class:  6\n",
      "Test Data Index: 3901 computed class:  6 True class:  6\n",
      "Test Data Index: 7689 computed class:  8 True class:  8\n",
      "Test Data Index: 7069 computed class:  7 True class:  7\n",
      "Test Data Index: 5099 computed class:  2 True class:  2\n",
      "Test Data Index: 6388 computed class:  6 True class:  6\n",
      "Test Data Index: 3964 computed class:  8 True class:  8\n",
      "Test Data Index: 7208 computed class:  8 True class:  8\n",
      "Test Data Index: 4702 computed class:  6 True class:  6\n",
      "Test Data Index: 1384 computed class:  3 True class:  3\n",
      "Test Data Index: 5870 computed class:  0 True class:  0\n",
      "Test Data Index: 4248 computed class:  2 True class:  2\n",
      "Test Data Index: 7944 computed class:  1 True class:  1\n",
      "Test Data Index: 202 computed class:  1 True class:  1\n",
      "Test Data Index: 7516 computed class:  0 True class:  0\n",
      "Test Data Index: 1194 computed class:  7 True class:  7\n",
      "Test Data Index: 8871 computed class:  7 True class:  7\n",
      "Test Data Index: 5294 computed class:  4 True class:  4\n",
      "Test Data Index: 1232 computed class:  4 True class:  9\n",
      "Test Data Index: 1883 computed class:  7 True class:  7\n",
      "Test Data Index: 7818 computed class:  4 True class:  4\n",
      "Test Data Index: 3253 computed class:  1 True class:  1\n",
      "Test Data Index: 1576 computed class:  7 True class:  7\n",
      "Test Data Index: 6138 computed class:  4 True class:  4\n",
      "Test Data Index: 8812 computed class:  4 True class:  4\n",
      "Test Data Index: 8010 computed class:  3 True class:  3\n",
      "Test Data Index: 8709 computed class:  4 True class:  4\n",
      "Test Data Index: 1601 computed class:  3 True class:  3\n",
      "accuracy:  0.97\n"
     ]
    }
   ],
   "source": [
    "wrong = 0\n",
    "for i in sample:\n",
    "    print(\"Test Data Index: \"+ str(i), end =' ')\n",
    "    result = weighted_classify(x_train, x_test[i], 3, t_train)\n",
    "    print(\"computed class: \",result, end =' ')\n",
    "    print(\"True class: \", t_test[i])# flowers 딕셔너리 안을 참고하면, 0이 나올시 Setosa, 1이 나올시 Versicolor, 2가 나올시 Vitginica가 출력됨을 알 수 있다\n",
    "    if(result != t_test[i]):\n",
    "        wrong += 1\n",
    "print(\"accuracy: \",1- wrong/100)"
   ]
  },
  {
   "cell_type": "code",
   "execution_count": 13,
   "metadata": {},
   "outputs": [
    {
     "name": "stdout",
     "output_type": "stream",
     "text": [
      "Test Data Index: 7680 computed class:  9 True class:  9\n",
      "Test Data Index: 7504 computed class:  7 True class:  7\n",
      "Test Data Index: 9196 computed class:  7 True class:  7\n",
      "Test Data Index: 6568 computed class:  9 True class:  9\n",
      "Test Data Index: 3402 computed class:  6 True class:  6\n",
      "Test Data Index: 2622 computed class:  7 True class:  7\n",
      "Test Data Index: 1568 computed class:  8 True class:  8\n",
      "Test Data Index: 7108 computed class:  5 True class:  5\n",
      "Test Data Index: 601 computed class:  8 True class:  8\n",
      "Test Data Index: 3937 computed class:  1 True class:  1\n",
      "Test Data Index: 6714 computed class:  3 True class:  3\n",
      "Test Data Index: 6259 computed class:  0 True class:  0\n",
      "Test Data Index: 644 computed class:  0 True class:  0\n",
      "Test Data Index: 3193 computed class:  3 True class:  3\n",
      "Test Data Index: 2024 computed class:  7 True class:  7\n",
      "Test Data Index: 3126 computed class:  1 True class:  1\n",
      "Test Data Index: 5896 computed class:  1 True class:  1\n",
      "Test Data Index: 466 computed class:  8 True class:  8\n",
      "Test Data Index: 1586 computed class:  3 True class:  3\n",
      "Test Data Index: 3630 computed class:  3 True class:  3\n",
      "Test Data Index: 2709 computed class:  4 True class:  4\n",
      "Test Data Index: 4416 computed class:  6 True class:  6\n",
      "Test Data Index: 4985 computed class:  2 True class:  2\n",
      "Test Data Index: 561 computed class:  0 True class:  0\n",
      "Test Data Index: 4112 computed class:  8 True class:  8\n",
      "Test Data Index: 6349 computed class:  3 True class:  3\n",
      "Test Data Index: 3588 computed class:  8 True class:  8\n",
      "Test Data Index: 3540 computed class:  0 True class:  0\n",
      "Test Data Index: 6351 computed class:  0 True class:  0\n",
      "Test Data Index: 9967 computed class:  8 True class:  8\n",
      "Test Data Index: 7809 computed class:  5 True class:  5\n",
      "Test Data Index: 1049 computed class:  2 True class:  2\n",
      "Test Data Index: 7379 computed class:  8 True class:  8\n",
      "Test Data Index: 8508 computed class:  3 True class:  3\n",
      "Test Data Index: 6465 computed class:  3 True class:  3\n",
      "Test Data Index: 7468 computed class:  1 True class:  1\n",
      "Test Data Index: 9770 computed class:  0 True class:  5\n",
      "Test Data Index: 1098 computed class:  3 True class:  3\n",
      "Test Data Index: 1351 computed class:  1 True class:  1\n",
      "Test Data Index: 6829 computed class:  1 True class:  1\n",
      "Test Data Index: 8710 computed class:  5 True class:  5\n",
      "Test Data Index: 8367 computed class:  1 True class:  1\n",
      "Test Data Index: 859 computed class:  7 True class:  7\n",
      "Test Data Index: 7814 computed class:  8 True class:  8\n",
      "Test Data Index: 5818 computed class:  0 True class:  0\n",
      "Test Data Index: 9294 computed class:  7 True class:  7\n",
      "Test Data Index: 5207 computed class:  5 True class:  5\n",
      "Test Data Index: 1374 computed class:  2 True class:  2\n",
      "Test Data Index: 7630 computed class:  5 True class:  5\n",
      "Test Data Index: 9775 computed class:  6 True class:  6\n",
      "Test Data Index: 1506 computed class:  2 True class:  2\n",
      "Test Data Index: 2862 computed class:  8 True class:  8\n",
      "Test Data Index: 1334 computed class:  5 True class:  5\n",
      "Test Data Index: 6500 computed class:  5 True class:  5\n",
      "Test Data Index: 998 computed class:  8 True class:  8\n",
      "Test Data Index: 5586 computed class:  0 True class:  8\n",
      "Test Data Index: 9238 computed class:  3 True class:  3\n",
      "Test Data Index: 1853 computed class:  9 True class:  9\n",
      "Test Data Index: 4206 computed class:  2 True class:  2\n",
      "Test Data Index: 274 computed class:  9 True class:  9\n",
      "Test Data Index: 8709 computed class:  4 True class:  4\n",
      "Test Data Index: 6811 computed class:  3 True class:  3\n",
      "Test Data Index: 3550 computed class:  6 True class:  6\n",
      "Test Data Index: 9078 computed class:  8 True class:  8\n",
      "Test Data Index: 4721 computed class:  4 True class:  4\n",
      "Test Data Index: 9924 computed class:  9 True class:  9\n",
      "Test Data Index: 5815 computed class:  3 True class:  3\n",
      "Test Data Index: 538 computed class:  8 True class:  8\n",
      "Test Data Index: 6511 computed class:  3 True class:  3\n",
      "Test Data Index: 7444 computed class:  8 True class:  8\n",
      "Test Data Index: 1889 computed class:  3 True class:  3\n",
      "Test Data Index: 325 computed class:  4 True class:  4\n",
      "Test Data Index: 5401 computed class:  6 True class:  6\n",
      "Test Data Index: 3901 computed class:  6 True class:  6\n",
      "Test Data Index: 7689 computed class:  8 True class:  8\n",
      "Test Data Index: 7069 computed class:  7 True class:  7\n",
      "Test Data Index: 5099 computed class:  2 True class:  2\n",
      "Test Data Index: 6388 computed class:  6 True class:  6\n",
      "Test Data Index: 3964 computed class:  8 True class:  8\n",
      "Test Data Index: 7208 computed class:  8 True class:  8\n",
      "Test Data Index: 4702 computed class:  6 True class:  6\n",
      "Test Data Index: 1384 computed class:  3 True class:  3\n",
      "Test Data Index: 5870 computed class:  0 True class:  0\n",
      "Test Data Index: 4248 computed class:  2 True class:  2\n",
      "Test Data Index: 7944 computed class:  1 True class:  1\n",
      "Test Data Index: 202 computed class:  1 True class:  1\n",
      "Test Data Index: 7516 computed class:  0 True class:  0\n",
      "Test Data Index: 1194 computed class:  7 True class:  7\n",
      "Test Data Index: 8871 computed class:  7 True class:  7\n",
      "Test Data Index: 5294 computed class:  4 True class:  4\n",
      "Test Data Index: 1232 computed class:  9 True class:  9\n",
      "Test Data Index: 1883 computed class:  7 True class:  7\n",
      "Test Data Index: 7818 computed class:  4 True class:  4\n",
      "Test Data Index: 3253 computed class:  1 True class:  1\n",
      "Test Data Index: 1576 computed class:  7 True class:  7\n",
      "Test Data Index: 6138 computed class:  4 True class:  4\n",
      "Test Data Index: 8812 computed class:  4 True class:  4\n",
      "Test Data Index: 8010 computed class:  3 True class:  3\n",
      "Test Data Index: 8709 computed class:  4 True class:  4\n",
      "Test Data Index: 1601 computed class:  3 True class:  3\n",
      "accuracy:  0.98\n"
     ]
    }
   ],
   "source": [
    "wrong = 0\n",
    "for i in sample:\n",
    "    print(\"Test Data Index: \"+ str(i), end =' ')\n",
    "    result = weighted_classify(x_train, x_test[i], 5, t_train)\n",
    "    print(\"computed class: \",result, end =' ')\n",
    "    print(\"True class: \", t_test[i])# flowers 딕셔너리 안을 참고하면, 0이 나올시 Setosa, 1이 나올시 Versicolor, 2가 나올시 Vitginica가 출력됨을 알 수 있다\n",
    "    if(result != t_test[i]):\n",
    "        wrong += 1\n",
    "print(\"accuracy: \",1- wrong/100)"
   ]
  },
  {
   "cell_type": "code",
   "execution_count": 15,
   "metadata": {},
   "outputs": [
    {
     "name": "stdout",
     "output_type": "stream",
     "text": [
      "Test Data Index: 7680 computed class:  9 True class:  9\n",
      "Test Data Index: 7504 computed class:  7 True class:  7\n",
      "Test Data Index: 9196 computed class:  7 True class:  7\n",
      "Test Data Index: 6568 computed class:  9 True class:  9\n",
      "Test Data Index: 3402 computed class:  6 True class:  6\n",
      "Test Data Index: 2622 computed class:  7 True class:  7\n",
      "Test Data Index: 1568 computed class:  8 True class:  8\n",
      "Test Data Index: 7108 computed class:  5 True class:  5\n",
      "Test Data Index: 601 computed class:  8 True class:  8\n",
      "Test Data Index: 3937 computed class:  1 True class:  1\n",
      "Test Data Index: 6714 computed class:  3 True class:  3\n",
      "Test Data Index: 6259 computed class:  0 True class:  0\n",
      "Test Data Index: 644 computed class:  0 True class:  0\n",
      "Test Data Index: 3193 computed class:  3 True class:  3\n",
      "Test Data Index: 2024 computed class:  7 True class:  7\n",
      "Test Data Index: 3126 computed class:  1 True class:  1\n",
      "Test Data Index: 5896 computed class:  1 True class:  1\n",
      "Test Data Index: 466 computed class:  8 True class:  8\n",
      "Test Data Index: 1586 computed class:  3 True class:  3\n",
      "Test Data Index: 3630 computed class:  3 True class:  3\n",
      "Test Data Index: 2709 computed class:  4 True class:  4\n",
      "Test Data Index: 4416 computed class:  6 True class:  6\n",
      "Test Data Index: 4985 computed class:  2 True class:  2\n",
      "Test Data Index: 561 computed class:  0 True class:  0\n",
      "Test Data Index: 4112 computed class:  8 True class:  8\n",
      "Test Data Index: 6349 computed class:  3 True class:  3\n",
      "Test Data Index: 3588 computed class:  8 True class:  8\n",
      "Test Data Index: 3540 computed class:  0 True class:  0\n",
      "Test Data Index: 6351 computed class:  0 True class:  0\n",
      "Test Data Index: 9967 computed class:  8 True class:  8\n",
      "Test Data Index: 7809 computed class:  5 True class:  5\n",
      "Test Data Index: 1049 computed class:  2 True class:  2\n",
      "Test Data Index: 7379 computed class:  8 True class:  8\n",
      "Test Data Index: 8508 computed class:  3 True class:  3\n",
      "Test Data Index: 6465 computed class:  3 True class:  3\n",
      "Test Data Index: 7468 computed class:  1 True class:  1\n",
      "Test Data Index: 9770 computed class:  0 True class:  5\n",
      "Test Data Index: 1098 computed class:  3 True class:  3\n",
      "Test Data Index: 1351 computed class:  1 True class:  1\n",
      "Test Data Index: 6829 computed class:  1 True class:  1\n",
      "Test Data Index: 8710 computed class:  5 True class:  5\n",
      "Test Data Index: 8367 computed class:  1 True class:  1\n",
      "Test Data Index: 859 computed class:  7 True class:  7\n",
      "Test Data Index: 7814 computed class:  8 True class:  8\n",
      "Test Data Index: 5818 computed class:  0 True class:  0\n",
      "Test Data Index: 9294 computed class:  7 True class:  7\n",
      "Test Data Index: 5207 computed class:  5 True class:  5\n",
      "Test Data Index: 1374 computed class:  2 True class:  2\n",
      "Test Data Index: 7630 computed class:  5 True class:  5\n",
      "Test Data Index: 9775 computed class:  6 True class:  6\n",
      "Test Data Index: 1506 computed class:  2 True class:  2\n",
      "Test Data Index: 2862 computed class:  8 True class:  8\n",
      "Test Data Index: 1334 computed class:  5 True class:  5\n",
      "Test Data Index: 6500 computed class:  5 True class:  5\n",
      "Test Data Index: 998 computed class:  8 True class:  8\n",
      "Test Data Index: 5586 computed class:  8 True class:  8\n",
      "Test Data Index: 9238 computed class:  3 True class:  3\n",
      "Test Data Index: 1853 computed class:  9 True class:  9\n",
      "Test Data Index: 4206 computed class:  2 True class:  2\n",
      "Test Data Index: 274 computed class:  9 True class:  9\n",
      "Test Data Index: 8709 computed class:  4 True class:  4\n",
      "Test Data Index: 6811 computed class:  3 True class:  3\n",
      "Test Data Index: 3550 computed class:  6 True class:  6\n",
      "Test Data Index: 9078 computed class:  8 True class:  8\n",
      "Test Data Index: 4721 computed class:  4 True class:  4\n",
      "Test Data Index: 9924 computed class:  9 True class:  9\n",
      "Test Data Index: 5815 computed class:  3 True class:  3\n",
      "Test Data Index: 538 computed class:  8 True class:  8\n",
      "Test Data Index: 6511 computed class:  3 True class:  3\n",
      "Test Data Index: 7444 computed class:  8 True class:  8\n",
      "Test Data Index: 1889 computed class:  3 True class:  3\n",
      "Test Data Index: 325 computed class:  4 True class:  4\n",
      "Test Data Index: 5401 computed class:  6 True class:  6\n",
      "Test Data Index: 3901 computed class:  6 True class:  6\n",
      "Test Data Index: 7689 computed class:  8 True class:  8\n",
      "Test Data Index: 7069 computed class:  7 True class:  7\n",
      "Test Data Index: 5099 computed class:  2 True class:  2\n",
      "Test Data Index: 6388 computed class:  6 True class:  6\n",
      "Test Data Index: 3964 computed class:  8 True class:  8\n",
      "Test Data Index: 7208 computed class:  8 True class:  8\n",
      "Test Data Index: 4702 computed class:  6 True class:  6\n",
      "Test Data Index: 1384 computed class:  3 True class:  3\n",
      "Test Data Index: 5870 computed class:  0 True class:  0\n",
      "Test Data Index: 4248 computed class:  1 True class:  2\n",
      "Test Data Index: 7944 computed class:  1 True class:  1\n",
      "Test Data Index: 202 computed class:  1 True class:  1\n",
      "Test Data Index: 7516 computed class:  0 True class:  0\n",
      "Test Data Index: 1194 computed class:  7 True class:  7\n",
      "Test Data Index: 8871 computed class:  7 True class:  7\n",
      "Test Data Index: 5294 computed class:  4 True class:  4\n",
      "Test Data Index: 1232 computed class:  9 True class:  9\n",
      "Test Data Index: 1883 computed class:  7 True class:  7\n",
      "Test Data Index: 7818 computed class:  4 True class:  4\n",
      "Test Data Index: 3253 computed class:  1 True class:  1\n",
      "Test Data Index: 1576 computed class:  7 True class:  7\n",
      "Test Data Index: 6138 computed class:  4 True class:  4\n",
      "Test Data Index: 8812 computed class:  4 True class:  4\n",
      "Test Data Index: 8010 computed class:  3 True class:  3\n",
      "Test Data Index: 8709 computed class:  4 True class:  4\n",
      "Test Data Index: 1601 computed class:  3 True class:  3\n",
      "accuracy:  0.98\n"
     ]
    }
   ],
   "source": [
    "wrong = 0\n",
    "for i in sample:\n",
    "    print(\"Test Data Index: \"+ str(i), end =' ')\n",
    "    result = weighted_classify(x_train, x_test[i], 7, t_train)\n",
    "    print(\"computed class: \",result, end =' ')\n",
    "    print(\"True class: \", t_test[i])# flowers 딕셔너리 안을 참고하면, 0이 나올시 Setosa, 1이 나올시 Versicolor, 2가 나올시 Vitginica가 출력됨을 알 수 있다\n",
    "    if(result != t_test[i]):\n",
    "        wrong += 1\n",
    "print(\"accuracy: \",1- wrong/100)"
   ]
  },
  {
   "cell_type": "code",
   "execution_count": null,
   "metadata": {},
   "outputs": [],
   "source": []
  }
 ],
 "metadata": {
  "kernelspec": {
   "display_name": "Python 3",
   "language": "python",
   "name": "python3"
  },
  "language_info": {
   "codemirror_mode": {
    "name": "ipython",
    "version": 3
   },
   "file_extension": ".py",
   "mimetype": "text/x-python",
   "name": "python",
   "nbconvert_exporter": "python",
   "pygments_lexer": "ipython3",
   "version": "3.7.7"
  }
 },
 "nbformat": 4,
 "nbformat_minor": 4
}
