{
 "cells": [
  {
   "cell_type": "code",
   "execution_count": 1,
   "metadata": {},
   "outputs": [],
   "source": [
    "import sys,os\n",
    "sys.path.append(os.pardir)"
   ]
  },
  {
   "cell_type": "code",
   "execution_count": 2,
   "metadata": {
    "scrolled": false
   },
   "outputs": [],
   "source": [
    "import numpy as np\n",
    "from dataset.mnist import load_mnist"
   ]
  },
  {
   "cell_type": "code",
   "execution_count": 3,
   "metadata": {},
   "outputs": [],
   "source": [
    "from PIL import Image"
   ]
  },
  {
   "cell_type": "code",
   "execution_count": 4,
   "metadata": {},
   "outputs": [],
   "source": [
    "(x_train, t_train), (x_test, t_test) = load_mnist(flatten = True, normalize = False)"
   ]
  },
  {
   "cell_type": "code",
   "execution_count": 5,
   "metadata": {},
   "outputs": [],
   "source": [
    "image = x_train[0]\n",
    "label = t_train[0]"
   ]
  },
  {
   "cell_type": "code",
   "execution_count": 6,
   "metadata": {},
   "outputs": [
    {
     "name": "stdout",
     "output_type": "stream",
     "text": [
      "5\n",
      "(784,)\n"
     ]
    }
   ],
   "source": [
    "print(label)\n",
    "print(image.shape)"
   ]
  },
  {
   "cell_type": "code",
   "execution_count": 7,
   "metadata": {},
   "outputs": [
    {
     "name": "stdout",
     "output_type": "stream",
     "text": [
      "[[0 0 0 ... 0 0 0]\n",
      " [0 0 0 ... 0 0 0]\n",
      " [0 0 0 ... 0 0 0]\n",
      " ...\n",
      " [0 0 0 ... 0 0 0]\n",
      " [0 0 0 ... 0 0 0]\n",
      " [0 0 0 ... 0 0 0]]\n"
     ]
    }
   ],
   "source": [
    "print(x_train)"
   ]
  },
  {
   "cell_type": "code",
   "execution_count": 8,
   "metadata": {},
   "outputs": [
    {
     "name": "stdout",
     "output_type": "stream",
     "text": [
      "[[0 0 0 ... 0 0 0]\n",
      " [0 0 0 ... 0 0 0]\n",
      " [0 0 0 ... 0 0 0]\n",
      " ...\n",
      " [0 0 0 ... 0 0 0]\n",
      " [0 0 0 ... 0 0 0]\n",
      " [0 0 0 ... 0 0 0]]\n"
     ]
    }
   ],
   "source": [
    "print(x_test)"
   ]
  },
  {
   "cell_type": "code",
   "execution_count": 9,
   "metadata": {},
   "outputs": [
    {
     "name": "stdout",
     "output_type": "stream",
     "text": [
      "[5 0 4 ... 5 6 8]\n"
     ]
    }
   ],
   "source": [
    "print(t_train)"
   ]
  },
  {
   "cell_type": "code",
   "execution_count": 10,
   "metadata": {},
   "outputs": [
    {
     "name": "stdout",
     "output_type": "stream",
     "text": [
      "[7 2 1 ... 4 5 6]\n"
     ]
    }
   ],
   "source": [
    "print(t_test)"
   ]
  },
  {
   "cell_type": "code",
   "execution_count": 11,
   "metadata": {},
   "outputs": [
    {
     "name": "stdout",
     "output_type": "stream",
     "text": [
      "(60000, 784)\n"
     ]
    }
   ],
   "source": [
    "print(x_train.shape)"
   ]
  },
  {
   "cell_type": "code",
   "execution_count": 12,
   "metadata": {},
   "outputs": [
    {
     "name": "stdout",
     "output_type": "stream",
     "text": [
      "(10000, 784)\n"
     ]
    }
   ],
   "source": [
    "print(x_test.shape)"
   ]
  },
  {
   "cell_type": "code",
   "execution_count": 13,
   "metadata": {},
   "outputs": [
    {
     "name": "stdout",
     "output_type": "stream",
     "text": [
      "(60000,)\n"
     ]
    }
   ],
   "source": [
    "print(t_train.shape)"
   ]
  },
  {
   "cell_type": "code",
   "execution_count": 14,
   "metadata": {},
   "outputs": [
    {
     "name": "stdout",
     "output_type": "stream",
     "text": [
      "(10000,)\n"
     ]
    }
   ],
   "source": [
    "print(t_test.shape)"
   ]
  },
  {
   "cell_type": "code",
   "execution_count": 15,
   "metadata": {},
   "outputs": [],
   "source": [
    "def img_show(img):\n",
    "    pil_img = Image.fromarray(np.uint8(img))\n",
    "    pil_img.show()"
   ]
  },
  {
   "cell_type": "code",
   "execution_count": 16,
   "metadata": {},
   "outputs": [],
   "source": [
    "image = image.reshape(28,28)\n",
    "#1차원->2차원"
   ]
  },
  {
   "cell_type": "code",
   "execution_count": 17,
   "metadata": {},
   "outputs": [
    {
     "name": "stdout",
     "output_type": "stream",
     "text": [
      "(28, 28)\n"
     ]
    }
   ],
   "source": [
    "print(image.shape)"
   ]
  },
  {
   "cell_type": "code",
   "execution_count": 18,
   "metadata": {},
   "outputs": [],
   "source": [
    "img_show(image)"
   ]
  },
  {
   "attachments": {
    "image.png": {
     "image/png": "[encoded data removed]"
    }
   },
   "cell_type": "markdown",
   "metadata": {},
   "source": [
    "![image.png](attachment:image.png)"
   ]
  },
  {
   "cell_type": "code",
   "execution_count": 19,
   "metadata": {},
   "outputs": [],
   "source": [
    "def reshape(input):\n",
    "    arr = []\n",
    "    new = input.reshape(28,28)\n",
    "    for i in range(28):\n",
    "        arr.append(np.count_nonzero(new[i]))\n",
    "    return np.array(arr)"
   ]
  },
  {
   "cell_type": "code",
   "execution_count": 20,
   "metadata": {},
   "outputs": [
    {
     "name": "stdout",
     "output_type": "stream",
     "text": [
      "[  0   0   0   0   0   0   0   0   0   0   0   0   0   0   0   0   0   0\n",
      "   0   0   0   0   0   0   0   0   0   0   0   0   0   0   0   0   0   0\n",
      "   0   0   0   0   0   0   0   0   0   0   0   0   0   0   0   0   0   0\n",
      "   0   0   0   0   0   0   0   0   0   0   0   0   0   0   0   0   0   0\n",
      "   0   0   0   0   0   0   0   0   0   0   0   0   0   0   0   0   0   0\n",
      "   0   0   0   0   0   0   0   0   0   0   0   0   0   0   0   0   0   0\n",
      "   0   0   0   0   0   0   0   0   0   0   0   0   0   0   0   0   0   0\n",
      "   0   0   0   0   0   0   0   0   0   0   0   0   0   0   0   0   0   0\n",
      "   0   0   0   0   0   0   0   0   3  18  18  18 126 136 175  26 166 255\n",
      " 247 127   0   0   0   0   0   0   0   0   0   0   0   0  30  36  94 154\n",
      " 170 253 253 253 253 253 225 172 253 242 195  64   0   0   0   0   0   0\n",
      "   0   0   0   0   0  49 238 253 253 253 253 253 253 253 253 251  93  82\n",
      "  82  56  39   0   0   0   0   0   0   0   0   0   0   0   0  18 219 253\n",
      " 253 253 253 253 198 182 247 241   0   0   0   0   0   0   0   0   0   0\n",
      "   0   0   0   0   0   0   0   0  80 156 107 253 253 205  11   0  43 154\n",
      "   0   0   0   0   0   0   0   0   0   0   0   0   0   0   0   0   0   0\n",
      "   0  14   1 154 253  90   0   0   0   0   0   0   0   0   0   0   0   0\n",
      "   0   0   0   0   0   0   0   0   0   0   0   0   0 139 253 190   2   0\n",
      "   0   0   0   0   0   0   0   0   0   0   0   0   0   0   0   0   0   0\n",
      "   0   0   0   0   0  11 190 253  70   0   0   0   0   0   0   0   0   0\n",
      "   0   0   0   0   0   0   0   0   0   0   0   0   0   0   0   0  35 241\n",
      " 225 160 108   1   0   0   0   0   0   0   0   0   0   0   0   0   0   0\n",
      "   0   0   0   0   0   0   0   0   0  81 240 253 253 119  25   0   0   0\n",
      "   0   0   0   0   0   0   0   0   0   0   0   0   0   0   0   0   0   0\n",
      "   0   0  45 186 253 253 150  27   0   0   0   0   0   0   0   0   0   0\n",
      "   0   0   0   0   0   0   0   0   0   0   0   0   0  16  93 252 253 187\n",
      "   0   0   0   0   0   0   0   0   0   0   0   0   0   0   0   0   0   0\n",
      "   0   0   0   0   0   0   0 249 253 249  64   0   0   0   0   0   0   0\n",
      "   0   0   0   0   0   0   0   0   0   0   0   0   0   0  46 130 183 253\n",
      " 253 207   2   0   0   0   0   0   0   0   0   0   0   0   0   0   0   0\n",
      "   0   0   0   0  39 148 229 253 253 253 250 182   0   0   0   0   0   0\n",
      "   0   0   0   0   0   0   0   0   0   0   0   0  24 114 221 253 253 253\n",
      " 253 201  78   0   0   0   0   0   0   0   0   0   0   0   0   0   0   0\n",
      "   0   0  23  66 213 253 253 253 253 198  81   2   0   0   0   0   0   0\n",
      "   0   0   0   0   0   0   0   0   0   0  18 171 219 253 253 253 253 195\n",
      "  80   9   0   0   0   0   0   0   0   0   0   0   0   0   0   0   0   0\n",
      "  55 172 226 253 253 253 253 244 133  11   0   0   0   0   0   0   0   0\n",
      "   0   0   0   0   0   0   0   0   0   0 136 253 253 253 212 135 132  16\n",
      "   0   0   0   0   0   0   0   0   0   0   0   0   0   0   0   0   0   0\n",
      "   0   0   0   0   0   0   0   0   0   0   0   0   0   0   0   0   0   0\n",
      "   0   0   0   0   0   0   0   0   0   0   0   0   0   0   0   0   0   0\n",
      "   0   0   0   0   0   0   0   0   0   0   0   0   0   0   0   0   0   0\n",
      "   0   0   0   0   0   0   0   0   0   0   0   0   0   0   0   0   0   0\n",
      "   0   0   0   0   0   0   0   0   0   0]\n"
     ]
    }
   ],
   "source": [
    "print(x_train[0])"
   ]
  },
  {
   "cell_type": "code",
   "execution_count": 21,
   "metadata": {},
   "outputs": [],
   "source": [
    "sh = reshape(x_train[0])"
   ]
  },
  {
   "cell_type": "code",
   "execution_count": 22,
   "metadata": {},
   "outputs": [
    {
     "name": "stdout",
     "output_type": "stream",
     "text": [
      "[ 0  0  0  0  0 12 16 16 11  9  5  4  4  6  6  6  5  4  7  8  9 10 10 10\n",
      "  8  0  0  0]\n"
     ]
    }
   ],
   "source": [
    "print(sh)"
   ]
  },
  {
   "cell_type": "code",
   "execution_count": 23,
   "metadata": {},
   "outputs": [],
   "source": [
    "shh = reshape(x_train[1])"
   ]
  },
  {
   "cell_type": "code",
   "execution_count": 24,
   "metadata": {},
   "outputs": [
    {
     "name": "stdout",
     "output_type": "stream",
     "text": [
      "[ 0  0  0  0  5  6  9 11 11 12 12  9 10  7  6  7  9  8  7  7 13 11  9  7\n",
      "  0  0  0  0]\n"
     ]
    }
   ],
   "source": [
    "print(shh)"
   ]
  },
  {
   "cell_type": "code",
   "execution_count": 25,
   "metadata": {},
   "outputs": [],
   "source": [
    "new_xtrain = []\n",
    "for i in range(60000):\n",
    "    new_xtrain.append(reshape(x_train[i]))"
   ]
  },
  {
   "cell_type": "code",
   "execution_count": 26,
   "metadata": {},
   "outputs": [
    {
     "name": "stdout",
     "output_type": "stream",
     "text": [
      "[ 0  0  0  0  5  6  9 11 11 12 12  9 10  7  6  7  9  8  7  7 13 11  9  7\n",
      "  0  0  0  0]\n"
     ]
    }
   ],
   "source": [
    "print(new_xtrain[1])"
   ]
  },
  {
   "cell_type": "code",
   "execution_count": 27,
   "metadata": {},
   "outputs": [
    {
     "name": "stdout",
     "output_type": "stream",
     "text": [
      "[ 0  0  0  0  0 12 16 16 11  9  5  4  4  6  6  6  5  4  7  8  9 10 10 10\n",
      "  8  0  0  0]\n",
      "[ 0  0  0  0  5  6  9 11 11 12 12  9 10  7  6  7  9  8  7  7 13 11  9  7\n",
      "  0  0  0  0]\n",
      "[ 0  0  0  0  0  3  5  6  5  5  6  7  7  9 15 17 11  3  3  3  3  3  3  3\n",
      "  3  0  0  0]\n",
      "[0 0 0 0 0 4 5 5 6 5 4 5 5 5 5 5 5 5 5 4 5 6 4 4 4 0 0 0]\n",
      "[ 0  0  0  0  0  0  0  9 10 12 10  9 10 10 12 11 10  4  4  3  4  4  4  3\n",
      "  4  5  4  0]\n",
      "[ 0  0  0  0  0  5  7 10 12 11 10  8  4  8 10 13 14 18 18 15 10  9  6  0\n",
      "  0  0  0  0]\n",
      "[0 0 0 0 4 5 5 4 5 6 5 4 4 4 4 4 4 5 5 5 5 5 5 5 0 0 0 0]\n",
      "[ 0  0  0  0  0 11 14 14 14 10  5  6  8 12 11 12 11  4  4  8 11 14 13 11\n",
      "  7  0  0  0]\n",
      "[0 0 0 0 0 3 4 4 4 4 4 4 3 3 3 3 3 4 4 3 3 3 3 3 3 0 0 0]\n",
      "[ 0  0  0  0  2  3  4  3  7  6  7  9  7  8 12 11 14 10  9  4  4  4  3  3\n",
      "  0  0  0  0]\n",
      "[ 0  0  0  0  7  8  9  8  7  7  6  7  9  9  8  7  5  5  4  8 12 12  9  8\n",
      "  0  0  0  0]\n",
      "[0 0 0 0 0 0 0 6 8 9 8 4 6 4 3 4 7 8 7 9 8 0 0 0 0 0 0 0]\n",
      "[ 0  0  0  0  0 13 16 16 10  5  6  7  8 10 12 11  7  6  5  9 10 13 14 13\n",
      " 10  0  0  0]\n",
      "[ 0  0  3  4  6  6  5  5  4  4  5  8 12 14 15 14 11 11 12 11 10  8  0  0\n",
      "  0  0  0  0]\n",
      "[0 0 0 0 0 4 4 3 3 4 4 4 4 4 4 4 4 4 4 4 4 4 3 3 3 0 0 0]\n",
      "[ 0  0  0  0  0  0  0  6 10 14 15 12 10 11  9  5  4  5  6  6  6  4  5  4\n",
      "  5  4  3  0]\n",
      "[ 0  0  0  0  0  7  9  8  6  7  6  4  3  4  8 12 17 14 12  8  8 10  7  0\n",
      "  0  0  0  0]\n",
      "[ 0  0  0  0  0  4  8 12 11 11  9 10  9  8  7  6  6  8  8  9  8  8  7  7\n",
      "  5  0  0  0]\n",
      "[0 0 0 4 5 4 4 4 3 3 3 2 5 8 9 7 7 5 5 6 7 9 7 0 0 0 0 0]\n",
      "[ 0  0  0  0  0  0  0  6  8 10  7  7  9  7  7  5  4  4  4  4  4  3  4  4\n",
      "  4  4  4  0]\n",
      "[ 0  0  0  0  3  7  7  8 10 11 11 11 13 15 15 15 15 12 11  6  7  6  5  4\n",
      "  0  0  0  0]\n",
      "[ 0  0  0  0  4  7  8 11 12 13 14 13 14  9  6  8  8  9  9 10 15 12 10  6\n",
      "  0  0  0  0]\n",
      "[0 0 0 0 0 0 5 7 8 5 7 7 7 7 7 8 8 7 4 3 3 3 4 3 3 2 0 0]\n",
      "[0 0 0 0 0 3 5 6 5 6 5 4 5 5 5 5 5 5 5 5 5 4 5 4 3 0 0 0]\n",
      "[ 0  0  0  3  4  5  5  5  5  6  7 12 12  8  4  3  3  3 12 15 16  7  4  0\n",
      "  0  0  0  0]\n",
      "[ 0  0  0  0  7 13 16 16 12 10  7  8  8  9  9  6  7  6 14 17 19 18 15  9\n",
      "  0  0  0  0]\n",
      "[ 0  0  0  0  0  0  3  5  6  5  5  6  7  8 10  9  3  3  4  3  3  2  3  3\n",
      "  3  2  0  0]\n",
      "[ 0  0  0  0  0 11 16 17 18 17  9 11 11 10 11 10  7  6  6  6 17 17 16 14\n",
      " 10  0  0  0]\n",
      "[ 0  0  0  0  0 12 16 17 19 19 10  7  6  6  6  7  6  8  8  7  7 14 15 14\n",
      " 12  0  0  0]\n",
      "[ 0  0  0  0  0  0  0  0  5 10 13 11 11  7  5  5  5  5  5  6  5  4  3  2\n",
      "  0  0  0  0]\n",
      "[ 0  0  0  0  0  0  0 12 15 15  8  6  7 11 12 13  7  6  6  8 10 10  8  0\n",
      "  0  0  0  0]\n",
      "[ 0  0  0  0  0  8  9  9  9  9 11 10  9  8  8  7  8  9  9  9  8  9 10  9\n",
      "  7  0  0  0]\n",
      "[ 0  0  4  6  3  4  3  3  3  3  3  3  3  5  9 10 10 11 12  8 10  7  0  0\n",
      "  0  0  0  0]\n",
      "[ 0  0  0  0  0  0  0  7 10 11 10 10 10  9  8  5  5  5  4  4  4  5  4  5\n",
      "  5  5  4  0]\n",
      "[ 0  0  0  0  0  6  8 10 10 10 10  9 10 10 10  8 10 10 10 11 10 10 10  6\n",
      "  5  0  0  0]\n",
      "[0 0 0 0 0 0 5 8 9 6 4 4 5 7 8 6 4 3 5 8 9 7 0 0 0 0 0 0]\n",
      "[ 0  0  0  4  5  6  7  6  5  5  5  5  5  9 11 12 13 12 13 13 11 10  7  0\n",
      "  0  0  0  0]\n",
      "[ 0  0  0  0  5  5  7  8  9 11 12 14 12 12 12 10 10 12 10 12 12 11  9  7\n",
      "  0  0  0  0]\n",
      "[ 0  0  0  0  0  0  0 13 14 14  6  4  4  4  9 13 16 12 12  6  3  3  3  3\n",
      "  3  0  0  0]\n",
      "[ 0  0  0  0  4  5  5  5  6  6  5  8 10 11 10 11 11 12 13 11 11  9  4  3\n",
      "  0  0  0  0]\n",
      "[0 0 0 0 0 3 5 5 5 4 4 4 4 4 5 4 4 4 4 4 4 4 4 4 3 0 0 0]\n",
      "[ 0  0  0  0  3  7 10 11 11 10  8 10  9  7  5  7  8  8  8  7  8  9  9  7\n",
      "  0  0  0  0]\n",
      "[ 0  0  0  0  0  0  0  6  8  9 10  8  3  3  3  3  3  3  2  2  3  3  3  3\n",
      "  2  3  3  0]\n",
      "[0 0 0 0 0 0 7 8 9 8 7 6 9 7 6 3 3 4 3 4 3 4 3 4 4 4 0 0]\n",
      "[ 0  0  0  0  0  0 10 12 11  3  3  3  4  4  4  7  9  6  3  3  3  4  3  3\n",
      "  6  4  0  0]\n",
      "[ 0  0  0  0  0  0  0  9 11 11 11 10 10 11 12 12 10  4  4  3  4  3  4  3\n",
      "  5  4  4  0]\n",
      "[ 0  0  0  0  0  7  7 10 13 12  8  8  8  9  5  4  7  7  8  7  6  6  7  9\n",
      "  7  0  0  0]\n",
      "[ 0  0  0  0  0  0  8 10 11  6  3  3  4  3  6  7  6  4  3  4  8 10  9  6\n",
      "  0  0  0  0]\n",
      "[0 0 0 0 0 5 6 7 6 6 6 8 8 8 4 3 3 3 3 3 3 7 9 9 5 0 0 0]\n",
      "[ 0  0  0  0  0  8 13 16 16 12  9 10  8  7  8  6  5  4  4  4 12 14 13 10\n",
      "  5  0  0  0]\n",
      "[ 0  0  0  0  8 10 10  4  4  4  4  8  9 10  2  2  3  2  2  7  9 12 10  8\n",
      "  0  0  0  0]\n",
      "[ 0  0  0  0  0  9 12 13 15 15 16 15 10 10 10  9  8  8 11  9 10 16 14 12\n",
      " 12  0  0  0]\n",
      "[ 0  0  0  0  0  0  0 12 16 18 18 11 11  8  5  4  4  5  4  5  5  5  4  6\n",
      "  6  6  4  0]\n",
      "[ 0  0  0  0  0  0  0  4  6  7  8  9  9 11 14 13  4  4  3  4  3  4  3  3\n",
      "  3  3  2  0]\n",
      "[ 0  0  0  0  0  0  0 10 13 15 10  9 11 15 13  9  4  4  4  4  3  4  4  3\n",
      "  4  4  4  0]\n",
      "[ 0  0  0  0  0  0 12 14 14 13 10 11 11 10  9  6  6  7  7  7  8  8  8  9\n",
      "  9  8  0  0]\n",
      "[ 0  0  0  0  0  5 12 13 14 16 15 12 12 10  8  7  7  8  9 10 13 13 15 12\n",
      "  8  0  0  0]\n",
      "[ 0  0  0  0  0  0  0  6  8 11 11  7  6  6 10 10  8  3  3  3  4  4  4  3\n",
      "  4  3  3  0]\n",
      "[ 0  0  0  0  0  4  7 10 10 10 10 10 13 14 15 15 14  5  5  5  5  6  6  6\n",
      "  4  0  0  0]\n",
      "[0 0 0 0 4 4 5 5 4 5 4 4 5 5 5 5 5 5 4 5 4 6 6 4 0 0 0 0]\n",
      "[ 0  0  0  0  0  3  7  9 10  8  9  9  9  8 10 20 20 18 16  4  3  3  2  0\n",
      "  0  0  0  0]\n",
      "[ 0  0  0  0  0  0  3  5  4  8  8  8  7  8 11 12 12  4  4  3  4  3  3  2\n",
      "  3  3  0  0]\n",
      "[ 0  0  0  0  5  6  7  8  7  5  5  5  5 11 12 12 11  9 10  9 11 10  8  5\n",
      "  0  0  0  0]\n",
      "[ 0  0  0  0  0  5  7 11 12 12 14 14 16 15 14 11 12 17 15 11  9 10 14 11\n",
      " 10  0  0  0]\n",
      "[ 0  0  0  0  0  6  8  8  7  7  8  9  9  9  7  8 12 14 14 11  9  4  3  3\n",
      "  3  0  0  0]\n",
      "[ 0  0  0  0  0  0  0  3  7  9 12  9  9  6  6  5  3  3  5  7  8  8  3  0\n",
      "  0  0  0  0]\n",
      "[ 0  0  2  3  3  4  4  4  5  4  4  4 11 13 13  9  7  7  8 11  9  7  0  0\n",
      "  0  0  0  0]\n",
      "[0 0 0 0 0 9 2 5 6 6 7 6 4 5 5 4 6 6 6 6 3 4 4 3 2 0 0 0]\n",
      "[ 0  0  0  0  5  8  9 10 10  8  6  5  4  4  4  4  5  5  5  7  7 11 13  8\n",
      "  0  0  0  0]\n",
      "[ 0  0  0  0  0  8 10 11 12 12 13 13 10  9 10 10 11 10  8  9 11 13 12 11\n",
      "  9  0  0  0]\n",
      "[ 0  0  0  3  5  6  6  7  7  7  7  3  3  3  3  3  5  7  9 10 11  9  8  0\n",
      "  0  0  0  0]\n",
      "[ 0  0  0  0  0  0  0  0  9 11 13 14 14 12  5  5  4  4  4  4  4  4  4  4\n",
      "  4  4  4  3]\n",
      "[0 0 0 0 3 3 3 3 3 3 3 3 3 3 3 3 3 3 4 4 3 3 3 3 0 0 0 0]\n",
      "[ 0  0  4  4  3  4  4  4  4  4  7 12 12 12 12 11 11 11 13 12 11  8  0  0\n",
      "  0  0  0  0]\n",
      "[ 0  0  0  0  0  7  9 11 11  6  4  8  8 10 10  4  5  5  4  4  6 10  9  9\n",
      "  8  0  0  0]\n",
      "[ 0  0  0  0  0  7  9  9 10  9 10 10 12  9  9  9  8  8  8  9 10 13 11 10\n",
      "  6  0  0  0]\n",
      "[ 0  0  0  0  5  9 13 14 10  7  5  6  6  5  6  5  4  4  3  4 13 16 13  9\n",
      "  0  0  0  0]\n",
      "[0 0 0 0 0 4 4 5 5 5 5 5 6 5 5 4 4 5 5 4 3 4 4 4 4 0 0 0]\n",
      "[0 0 0 0 3 5 5 5 5 5 6 5 5 6 5 6 5 6 6 6 6 5 6 4 0 0 0 0]\n",
      "[ 0  0  0  0  0  0  0  5  9 12 13 14 14 11  6  4  4  4  4  5  4  5  5  4\n",
      "  4  4  4  0]\n",
      "[ 0  0  0  0  8  9  8  6  8  8 10 11 11  8  5  5  6  6  6  8 11 11 10  8\n",
      "  0  0  0  0]\n",
      "[ 0  0  0  0  0  9 10 11 11 13 11 11 10 10  9  8  9  7  9  9 14 12 11  9\n",
      "  8  0  0  0]\n",
      "[ 0  0  0  7  9 10 11 11  9  7  5  4  4  3 10 15 15 16 15 16 17 14 12  0\n",
      "  0  0  0  0]\n",
      "[ 0  0  2  3  4  3  4  3  3  4  8  9 11 10 10  9  8 10 10 13 10  7  0  0\n",
      "  0  0  0  0]\n",
      "[ 0  0  0  0  0  0  0 17 18  9  3  3  4  3  4  4  4  3  4  4  3  4  3  4\n",
      "  5  5  5  0]\n",
      "[ 0  0  0  0  0 11 13 10  7  9  9 10  7  6  6  7  8  6  7  6  6  7 10 10\n",
      "  7  0  0  0]\n",
      "[ 0  0  0  0  0  0 12 13 11  5  6  7  9  8  6  5  5  4  3  3  3  3  5 12\n",
      " 11  8  0  0]\n",
      "[ 0  0  0  0  0  0  0  9 12 13 12 11 14 13  9 12 11  9  7  5  4  4  5  5\n",
      "  4  4  4  0]\n",
      "[ 0  0  0  0  8  9 11 12 14 13 13  9  9  8  8  8  8  9  9  9  9 12 13 11\n",
      "  0  0  0  0]\n",
      "[ 0  0  0  0  0  0  4  8  9 11 11 11 10 10 10 15 14 13  4  4  4  4  5  4\n",
      "  3  3  0  0]\n",
      "[ 0  0  4  6  6  6  6  5  5  6  6  5  9 13 14 13 13 14 14 13 11  8  0  0\n",
      "  0  0  0  0]\n",
      "[ 0  0  0  0  0  0  0  0  8 12 15 17 17 13  6  4  6  4  5  5  5  5  5  5\n",
      "  5  4  4  3]\n",
      "[ 0  0  0  0  0  2  5  5  5  5  5  5  5  6  9 11 11  5  3  3  3  3  2  2\n",
      "  2  0  0  0]\n",
      "[ 0  0  0  4  5  6  6  5  5  5  8 10 11 14 13 13 12 12 12 12 11 10  9  0\n",
      "  0  0  0  0]\n",
      "[ 0  0  0  0  0  6  9 11 10  9  9  9 10 10  7  5  5  6  7  8  8  7  8  7\n",
      "  7  0  0  0]\n",
      "[ 0  0  0  0  5  7 10 10 11 12 11 11 10 11  8  8  8  9  9 10 12 12 12 10\n",
      "  0  0  0  0]\n",
      "[ 0  0  0  0  0  0  0  7 10 12 12  8  4  4  3  4  3  4  4  4  4  4  4  3\n",
      "  4  5  4  0]\n",
      "[ 0  0  0  0  0  9 12 12 13  9  8  8 11  8  6  6  7  8  8  8  9  8  9  9\n",
      "  7  0  0  0]\n",
      "[ 0  0  0  0  0  7  9 10  7  7  3  5  8  9  9  4  4  3  3  4  5  8 10  9\n",
      "  7  0  0  0]\n",
      "[0 0 0 0 0 4 4 4 5 4 4 4 4 5 4 4 5 4 5 5 4 4 4 4 3 0 0 0]\n"
     ]
    }
   ],
   "source": [
    "for i in range(100):\n",
    "    #print(new_xtrain[i].shape)\n",
    "    print(new_xtrain[i])"
   ]
  },
  {
   "cell_type": "code",
   "execution_count": 28,
   "metadata": {},
   "outputs": [],
   "source": [
    "new_xtest = []\n",
    "for i in range(10000):\n",
    "    new_xtest.append(reshape(x_test[i]))"
   ]
  },
  {
   "cell_type": "code",
   "execution_count": 29,
   "metadata": {},
   "outputs": [
    {
     "name": "stdout",
     "output_type": "stream",
     "text": [
      "[ 0  0  0  0  0  0  0  6 16 16 11  4  4  4  4  4  4  3  4  4  5  4  5  4\n",
      "  5  5  4  0]\n",
      "[ 0  0  0  7  9 10 10  8  6  5  5  4  5  5  4  5  5  5  4 18 19 19 12  0\n",
      "  0  0  0  0]\n",
      "[0 0 0 0 3 3 2 3 3 3 3 3 3 4 3 3 3 3 3 3 4 4 4 4 0 0 0 0]\n",
      "[ 0  0  0  0  5  5  6  9 10 11 13 14 11 10  8  8 10  9  9 13 13 13  9  7\n",
      "  0  0  0  0]\n",
      "[ 0  0  0  0  0  4  4  6  6  7  7  7  7  6  6  8 13 13  8  4  3  3  3  3\n",
      "  2  0  0  0]\n",
      "[0 0 0 0 0 4 5 5 5 4 4 4 4 4 4 4 4 4 4 4 4 4 4 4 3 0 0 0]\n",
      "[ 0  0  0  0  0  7  8  7  8  8  7  8 14 14 12  4  3  4  3  3  3  5  6  6\n",
      "  5  0  0  0]\n",
      "[ 0  0  0  0  0  0  4  5  7  9 10 10  8  7 11 11 10  8  4  4  4  4  4  3\n",
      "  3  3  0  0]\n",
      "[ 0  0  0  0  8 10 13 13 12  7  5  5  4  3  5 13 14 15 11  9  9  9  6  3\n",
      "  0  0  0  0]\n",
      "[ 0  0  0  0  0  0  0  7 12 14 14 14 14 17 16 13  6  5  6  6  5  5  6  5\n",
      "  4  4  3  0]\n",
      "[ 0  0  0  0  8 12 13 13  8  6  6  7  6  6  5  6  6  7  8  8  9 14 12  9\n",
      "  0  0  0  0]\n",
      "[ 0  0  0  4  5  4  3  3  3  7 10 14 13 11 11  8  9 11 13 11 13 11  8  0\n",
      "  0  0  0  0]\n",
      "[ 0  0  0  0  0  0  0 10 12 12  9  8  8  8  9 11 11  8  3  4  3  4  4  3\n",
      "  3  3  3  0]\n",
      "[ 0  0  0  0  0  8 10 10 11 12  9  7  8  9  8  7  7  7  6  7  7  8  9 10\n",
      "  8  0  0  0]\n",
      "[0 0 0 0 3 4 4 3 3 4 4 4 4 4 3 3 3 3 4 4 5 5 5 3 0 0 0 0]\n",
      "[ 0  0  0  0  9 10  7  3  4  3  7  9 13  9  4  4  4  3  2  3  6 10 15 12\n",
      "  0  0  0  0]\n",
      "[ 0  0  0  0  0  0  6  9 13 10  9  7  7  9  9 10 13 11  8  4  4  5  4  4\n",
      "  3  3  0  0]\n",
      "[ 0  0  0  0  0  0  0 12 16 17  9  6  4  4  5  4  5  5  5  5  5  6  6  5\n",
      "  6  5  4  0]\n",
      "[ 0  0  0  0  5  8  9 11  9  9  8 12 15 17 14 13  7  9  9  8 12 15 12  8\n",
      "  0  0  0  0]\n",
      "[ 0  0  0  0  0  2  3  3  6  6  6  6  6  6 12 13  9  7  3  3  3  3  3  3\n",
      "  3  0  0  0]\n",
      "[ 0  0  0  0  0  0  4  9 12 13 12 13 13 13 13  9  4  5  4  5  5  4  5  6\n",
      "  5  4  0  0]\n",
      "[ 0  0  0  5  5  6  5  4  3  4  4  3  3 11 11 12  7  6  8  9 10  8  6  0\n",
      "  0  0  0  0]\n",
      "[ 0  0  0  3  3  3  3  3  3  8 10 10  9  9  9  8  9 12 12 10  5  6  5  0\n",
      "  0  0  0  0]\n",
      "[ 0  0  0  0  0  9 12 11  7  3  4  3  3  3  8 10 11  5  4  5  7  9  9  7\n",
      "  5  0  0  0]\n",
      "[ 0  0  0  0  0  2  3  6  5  4  6  6  6  7  5 12 15  9  3  2  2  3  3  3\n",
      "  2  0  0  0]\n",
      "[ 0  0  0  0  8  8 13 14 15 15 17 14 13 12 12 14 14 18 18 17 15 13 10  8\n",
      "  0  0  0  0]\n",
      "[ 0  0  0  0  0  0  0  0 10 12 11 10  7  3  3  3  3  3  2  3  3  3  2  3\n",
      "  3  4  3  3]\n",
      "[ 0  0  0  0  0  2  6  6  7  7  7  7  7  8 12 14 13  7  3  3  3  4  4  4\n",
      "  2  0  0  0]\n",
      "[ 0  0  0  0  0 11 12 12 10 11 10  9  8  8  7  8  8  8  8  8 13 13 12 11\n",
      "  9  0  0  0]\n",
      "[0 0 0 0 3 3 3 4 3 3 3 3 3 4 4 3 3 3 3 4 4 4 4 4 0 0 0 0]\n",
      "[ 0  0  0  0  0  0 10 11 11  8  5  6  7  9  8  7  5  5  4  6  5  6  8  7\n",
      "  5  3  0  0]\n",
      "[0 0 0 0 0 3 3 3 3 3 3 3 3 4 4 3 3 3 3 3 3 3 2 3 3 0 0 0]\n",
      "[ 0  0  0  0  0  8  9 11  8  4  4  5  7  9 11 12  6  5  4  4  5  8 10 12\n",
      "  9  0  0  0]\n",
      "[ 0  0  0  0  2  5  5  6  6  7  8  7  7  9  9  9 17 18 18 18  8  3  0  0\n",
      "  0  0  0  0]\n",
      "[ 0  0  0  0  0  0 10 16 15 14  5  4  5  6  6  6  6  7  7  7  6  6  6  6\n",
      "  6  4  0  0]\n",
      "[ 0  0  0  0  9 11 14 10  8  8  7  6  4  4  5  5  5  5  9 16 19 16 13  5\n",
      "  0  0  0  0]\n",
      "[ 0  0  0  0  0  0  0 14 16 11 11  9  6  4  3  4  4  3  8  9  9  5  3  3\n",
      "  3  3  3  0]\n",
      "[0 0 0 0 0 4 4 4 4 4 4 4 5 4 4 4 4 4 4 4 4 4 4 4 4 0 0 0]\n",
      "[ 0  0  0  0  4  6  8  9  8  6  2  3  3  3  3  3  7  9 10  9 11  9  8  7\n",
      "  0  0  0  0]\n",
      "[0 0 0 0 3 5 5 5 5 5 5 5 6 6 6 5 5 5 5 5 5 5 5 4 0 0 0 0]\n",
      "[0 0 0 0 2 2 2 2 3 2 2 2 2 2 3 3 3 2 2 2 2 3 3 2 0 0 0 0]\n",
      "[ 0  0  0  0  0  0  0  8 11 13  9  6  3  3  4  3  6  8  7  8  3  4  3  3\n",
      "  3  2  2  0]\n",
      "[ 0  0  0  0  0  0  6  7  7  8  9  9 10 10 11 11 10  8  4  4  3  3  3  3\n",
      "  3  3  0  0]\n",
      "[ 0  0  0  0  3  4  4  3  3  3  3  4  3  3  4 13 15 12 10  6  5  3  0  0\n",
      "  0  0  0  0]\n",
      "[0 0 0 0 6 7 7 6 4 4 4 3 6 7 8 7 5 4 6 6 7 7 6 5 0 0 0 0]\n",
      "[ 0  0  0  0  0  9 11 11  4  3  3  3  7  9  9  6  6  4  5  6  7  7 10  8\n",
      "  6  0  0  0]\n",
      "[0 0 0 0 4 5 5 5 5 5 5 6 5 6 5 5 6 6 5 6 5 5 5 5 0 0 0 0]\n",
      "[ 0  0  6  7  6  4  3  3  3  2  2  3  3  3  7 10  9  7  9 12 14 11  0  0\n",
      "  0  0  0  0]\n",
      "[ 0  0  0  0  0  0 10 11 12 11 12 15 16 15 15 14 14  7  5  6  6  6  7  7\n",
      "  6  5  0  0]\n",
      "[ 0  0  0  0  0  4  5  5  7  7  7  9  9  9  9 14 14 12  8  3  3  3  3  3\n",
      "  3  0  0  0]\n",
      "[ 0  0  0  4  5  4  5  4  4  4  3  4  4  6  9 10  8  7  7 10 10 10  7  0\n",
      "  0  0  0  0]\n",
      "[ 0  0  0  0  0  0 14 15 15 15  5  7 12 16 16 13 10  4  5  9 16 14 13  7\n",
      "  0  0  0  0]\n",
      "[ 0  0  0  0  0  3  8 11 11  9  7  5  5  4 11 12 12  8  4  5  5  7 12 10\n",
      "  5  0  0  0]\n",
      "[ 0  0  0  0  5  5  7  6  3  3  3 10 13 14  8  3  3  3  3  2  6  9 12 10\n",
      "  0  0  0  0]\n",
      "[ 0  0  0  3  4  5  4  5  4  4 10 14 16 12 10 10 11 14 14 16 18 14  9  0\n",
      "  0  0  0  0]\n",
      "[ 0  0  0  0  0  8  9  9  9  9  8  7  7  7  7  7  6  6  6  7  7 10 10  8\n",
      "  7  0  0  0]\n",
      "[ 0  0  0  0  0  3  8  9  9  9  9  8  9  9 15 15 15 14  4  4  4  5  5  5\n",
      "  3  0  0  0]\n",
      "[0 0 0 0 0 3 3 3 3 3 3 3 3 4 3 2 3 3 3 3 3 3 3 3 3 0 0 0]\n",
      "[ 0  0  0  0  0  0  0  7 10 12 10  9 10 11 16 15 14  7  4  4  4  3  4  4\n",
      "  4  4  3  0]\n",
      "[ 0  0  0  0  0  0  3  5  8 10 10  6  5  4  3  4  6  5  3  3  3  2  4  5\n",
      "  4  3  0  0]\n",
      "[ 0  0  0  0  0  0  0  7 14 16 15  8  6  5  4  5  5  4  4  4  5  4  4  4\n",
      "  5  4  4  0]\n",
      "[ 0  0  0  0  0  3 12 14 15  8  8  9 11 13 10  8  9 13 14 14 12 10  0  0\n",
      "  0  0  0  0]\n",
      "[ 0  0  0  0  0  0  9 11  5  2  3  3  5  5  6  7  8  7  7  3  3  3  3  3\n",
      "  3  2  0  0]\n",
      "[ 0  0  0  4  5  7  7  6  5  4  4  4  6 11 10  8  5  4  6  9 13 11  8  0\n",
      "  0  0  0  0]\n",
      "[ 0  0  0  0  0  0  0 20 20 19  8  4  5 11 14 16 15 12  6  5  5  5  4  4\n",
      "  5  5  4  0]\n",
      "[0 0 0 0 0 2 2 5 5 5 5 5 6 8 8 8 6 3 3 3 3 3 3 3 2 0 0 0]\n",
      "[ 0  0  3  3  3  5  3  5  8  9 10  9  8  7  8  9  9  9 11 10 11 10  0  0\n",
      "  0  0  0  0]\n",
      "[ 0  0  0  0  0  4  5  5  8  8  8  8  8  8 10 13 15 13 12  4  4  4  3  3\n",
      "  2  0  0  0]\n",
      "[ 0  0  0  0  0 10 12 13 12  5  8  8  9  8 10 10 10  5  4  5  9 10  9  8\n",
      "  6  0  0  0]\n",
      "[ 0  0  0  0  0  2 10 14 16 13 11  8  7  7  6  6  7 10 11 18 15 11  1  0\n",
      "  0  0  0  0]\n",
      "[ 0  0  0  0  0  0  0  4 16 20 19  7  4  4  4  4  5  5  5  4  5  5  5  6\n",
      "  5  4  2  0]\n",
      "[ 0  0  0  0  6 11 12 13 13 12 12 10  9  9  8  8  9 10 11 13 15 14 13  7\n",
      "  0  0  0  0]\n",
      "[ 0  0  0  0 12 14 12  8  4  3  3  3  3  3  4  4  4 10 13 14 11 14 15 13\n",
      "  0  0  0  0]\n",
      "[ 0  0  0  0  0  0  8 10 11 11 10 11 10 10  7  6  7  6  6  6  7  6  6  6\n",
      "  5  4  0  0]\n",
      "[0 0 0 0 0 4 4 4 4 4 4 4 4 5 5 5 5 5 5 4 4 5 4 4 4 0 0 0]\n",
      "[ 0  0  0  0  0  0  0  4 14 16 16 13  4  4  4 12 13 10  4  3  3  3  3  3\n",
      "  3  3  3  0]\n",
      "[ 0  0  0  0  5  7  8  6  6  4  4  5  6  6  9  5  4  3  2  3  7  8 12 10\n",
      "  0  0  0  0]\n",
      "[ 0  0  0  0  0  0  0  8 11 13  9  7  6  7  3  4  4  4  5  8 16 16  6  0\n",
      "  0  0  0  0]\n",
      "[ 0  0  0  0  0  0  5  6  7  8  8  9 11 11  9  7  4  4  4  4  3  4  4  6\n",
      "  6  5  0  0]\n",
      "[ 0  0  0  0  0  0  0  9 16 18 18 17 14  7  8  8  9  7  7  8  7  8  8  7\n",
      "  7  5  5  0]\n",
      "[ 0  0  0  0  0  0  0  8  9 10 11 10  7  7  7  7  6  3  3  3  3  3  3  3\n",
      "  3  3  3  0]\n",
      "[ 0  0  0  4  6  8  8  7  5  5  4  3  3  9  9  9  9 11 11 12 12  9  7  0\n",
      "  0  0  0  0]\n",
      "[ 0  0  0  8 10 12 13 10  7  4  4  4  4  4  4  5 12 13 15 17 16 13  9  0\n",
      "  0  0  0  0]\n",
      "[ 0  0  0  0  0  0  0  7 12 12  6  8  8  7  6  3  3  3  3  4  3  3  3  3\n",
      "  4  4  4  0]\n",
      "[ 0  0  0  0  0  7 10 12 13 12 10 10  9 11  9 10 10  9  8  7  7  8  8  8\n",
      "  6  0  0  0]\n",
      "[ 0  0  0  0  0  6  9 11 11 10 10 13 15 15 14 15 16 13  6  6  6  5  5  4\n",
      "  4  0  0  0]\n",
      "[ 0  0  0  0  0  0  0 13 14 14 14 12  5  6  5  6  5  7  6  6  4  4  5  5\n",
      "  4  4  3  0]\n",
      "[ 0  0  0  0  0 10 11 11  4  5  5  7 11 14 13  8  6  6  6  7  8  8  9  7\n",
      "  7  0  0  0]\n",
      "[ 0  0  5  6  6  4  4  3  4  4  4  8 11 12 13 11 11 13 12 13 11  8  0  0\n",
      "  0  0  0  0]\n",
      "[0 0 0 0 3 3 3 4 4 4 5 5 5 5 6 6 5 6 5 4 5 5 5 5 0 0 0 0]\n",
      "[ 0  0  0  0  0  8 10 12 10  7  7  6  8  9 10  4  3  3  5  8  8  9 12 10\n",
      "  8  0  0  0]\n",
      "[ 0  0  4  4  5  4  4  4  4  4  3  3  7  9 11 11  9  8 11 10 10  7  0  0\n",
      "  0  0  0  0]\n",
      "[ 0  0  0  0  0  0  9 11  9  6  6  6  7  8  9  8  7  4  4  4  2  3  4  3\n",
      "  2  3  0  0]\n",
      "[ 0  0  0  0  0  8 10 11 11 10  8  9  9  9  9  8  5  5  6  8 11 12 11 10\n",
      "  6  0  0  0]\n",
      "[0 0 0 0 4 4 4 4 4 6 6 6 6 6 6 6 6 6 6 7 6 6 6 6 0 0 0 0]\n",
      "[ 0  0  0  0  0  5  8 10 11 10 11 13 14 15 18 17 16 15 13 10  6  7  7  6\n",
      "  4  0  0  0]\n",
      "[0 0 0 0 0 5 4 3 3 4 5 4 5 4 3 3 4 4 3 3 3 3 3 4 4 0 0 0]\n",
      "[ 0  0  0  0  0  0 12 12 12 12  6  6  5 19 19 17 12  7  5  5  5  5  5  5\n",
      "  4  4  0  0]\n",
      "[ 0  0  0  5  9  9  7  4  4  4  4  4  4  3  3  3  9 12 14 14 12 12  9  0\n",
      "  0  0  0  0]\n",
      "[ 0  0  0  0  0  0  9 11 12 13 10  9 10 12 14 15 14 13  7  3  3  3  4  4\n",
      "  4  4  0  0]\n"
     ]
    }
   ],
   "source": [
    "for i in range(100):\n",
    "    #print(new_xtrain[i].shape)\n",
    "    print(new_xtest[i])"
   ]
  },
  {
   "cell_type": "code",
   "execution_count": 30,
   "metadata": {},
   "outputs": [
    {
     "name": "stdout",
     "output_type": "stream",
     "text": [
      "importing Jupyter notebook from m_KNN.ipynb\n"
     ]
    }
   ],
   "source": [
    "import import_ipynb\n",
    "from m_KNN import classify\n",
    "from m_KNN import weighted_classify"
   ]
  },
  {
   "cell_type": "code",
   "execution_count": 31,
   "metadata": {},
   "outputs": [],
   "source": [
    "size = 100\n",
    "sample = np.random.randint(0,t_test.shape[0],size)"
   ]
  },
  {
   "cell_type": "code",
   "execution_count": 32,
   "metadata": {
    "scrolled": true
   },
   "outputs": [
    {
     "name": "stdout",
     "output_type": "stream",
     "text": [
      "Test Data Index: 7446 computed class:  0 True class:  0\n",
      "Test Data Index: 3749 computed class:  6 True class:  6\n",
      "Test Data Index: 4742 computed class:  7 True class:  7\n",
      "Test Data Index: 779 computed class:  7 True class:  5\n",
      "Test Data Index: 3557 computed class:  1 True class:  6\n",
      "Test Data Index: 5581 computed class:  6 True class:  6\n",
      "Test Data Index: 7416 computed class:  7 True class:  7\n",
      "Test Data Index: 1964 computed class:  9 True class:  9\n",
      "Test Data Index: 2818 computed class:  4 True class:  4\n",
      "Test Data Index: 3890 computed class:  5 True class:  5\n",
      "Test Data Index: 3069 computed class:  4 True class:  4\n",
      "Test Data Index: 760 computed class:  4 True class:  4\n",
      "Test Data Index: 7525 computed class:  9 True class:  9\n",
      "Test Data Index: 7232 computed class:  1 True class:  1\n",
      "Test Data Index: 9033 computed class:  4 True class:  4\n",
      "Test Data Index: 2719 computed class:  1 True class:  1\n",
      "Test Data Index: 3201 computed class:  2 True class:  2\n",
      "Test Data Index: 5262 computed class:  9 True class:  9\n",
      "Test Data Index: 6059 computed class:  9 True class:  3\n",
      "Test Data Index: 9570 computed class:  1 True class:  1\n",
      "Test Data Index: 13 computed class:  8 True class:  0\n",
      "Test Data Index: 9739 computed class:  0 True class:  0\n",
      "Test Data Index: 8782 computed class:  9 True class:  9\n",
      "Test Data Index: 227 computed class:  4 True class:  4\n",
      "Test Data Index: 8252 computed class:  1 True class:  1\n",
      "Test Data Index: 552 computed class:  0 True class:  0\n",
      "Test Data Index: 1063 computed class:  9 True class:  9\n",
      "Test Data Index: 8586 computed class:  1 True class:  1\n",
      "Test Data Index: 4632 computed class:  6 True class:  2\n",
      "Test Data Index: 2142 computed class:  0 True class:  8\n",
      "Test Data Index: 5922 computed class:  5 True class:  5\n",
      "Test Data Index: 8383 computed class:  3 True class:  9\n",
      "Test Data Index: 161 computed class:  6 True class:  6\n",
      "Test Data Index: 1602 computed class:  6 True class:  6\n",
      "Test Data Index: 320 computed class:  7 True class:  9\n",
      "Test Data Index: 8572 computed class:  6 True class:  6\n",
      "Test Data Index: 2130 computed class:  9 True class:  4\n",
      "Test Data Index: 8438 computed class:  2 True class:  2\n",
      "Test Data Index: 8636 computed class:  1 True class:  1\n",
      "Test Data Index: 7488 computed class:  4 True class:  4\n",
      "Test Data Index: 4227 computed class:  0 True class:  0\n",
      "Test Data Index: 6993 computed class:  2 True class:  2\n",
      "Test Data Index: 6197 computed class:  6 True class:  6\n",
      "Test Data Index: 5406 computed class:  1 True class:  1\n",
      "Test Data Index: 7008 computed class:  4 True class:  9\n",
      "Test Data Index: 7000 computed class:  1 True class:  1\n",
      "Test Data Index: 9341 computed class:  2 True class:  2\n",
      "Test Data Index: 3782 computed class:  8 True class:  8\n",
      "Test Data Index: 8130 computed class:  3 True class:  3\n",
      "Test Data Index: 1327 computed class:  9 True class:  9\n",
      "Test Data Index: 6385 computed class:  2 True class:  5\n",
      "Test Data Index: 6128 computed class:  6 True class:  6\n",
      "Test Data Index: 9339 computed class:  0 True class:  0\n",
      "Test Data Index: 1328 computed class:  7 True class:  7\n",
      "Test Data Index: 1546 computed class:  2 True class:  2\n",
      "Test Data Index: 6811 computed class:  3 True class:  3\n",
      "Test Data Index: 6616 computed class:  2 True class:  2\n",
      "Test Data Index: 5717 computed class:  0 True class:  2\n",
      "Test Data Index: 3625 computed class:  1 True class:  1\n",
      "Test Data Index: 656 computed class:  0 True class:  0\n",
      "Test Data Index: 9307 computed class:  8 True class:  8\n",
      "Test Data Index: 7364 computed class:  2 True class:  2\n",
      "Test Data Index: 2290 computed class:  7 True class:  7\n",
      "Test Data Index: 5074 computed class:  3 True class:  3\n",
      "Test Data Index: 9983 computed class:  0 True class:  0\n",
      "Test Data Index: 9396 computed class:  0 True class:  0\n",
      "Test Data Index: 4322 computed class:  7 True class:  7\n",
      "Test Data Index: 2594 computed class:  3 True class:  3\n",
      "Test Data Index: 1046 computed class:  2 True class:  5\n",
      "Test Data Index: 4906 computed class:  4 True class:  4\n",
      "Test Data Index: 4112 computed class:  8 True class:  8\n",
      "Test Data Index: 121 computed class:  4 True class:  4\n",
      "Test Data Index: 6425 computed class:  0 True class:  6\n",
      "Test Data Index: 8516 computed class:  6 True class:  6\n",
      "Test Data Index: 3343 computed class:  0 True class:  8\n",
      "Test Data Index: 2308 computed class:  8 True class:  3\n",
      "Test Data Index: 7965 computed class:  5 True class:  5\n",
      "Test Data Index: 3163 computed class:  8 True class:  8\n",
      "Test Data Index: 6601 computed class:  1 True class:  1\n",
      "Test Data Index: 7709 computed class:  6 True class:  6\n",
      "Test Data Index: 6684 computed class:  7 True class:  7\n",
      "Test Data Index: 9454 computed class:  6 True class:  6\n",
      "Test Data Index: 8425 computed class:  0 True class:  0\n",
      "Test Data Index: 2078 computed class:  5 True class:  5\n",
      "Test Data Index: 73 computed class:  9 True class:  9\n",
      "Test Data Index: 5032 computed class:  4 True class:  4\n",
      "Test Data Index: 1806 computed class:  7 True class:  7\n",
      "Test Data Index: 4378 computed class:  3 True class:  5\n",
      "Test Data Index: 4467 computed class:  7 True class:  7\n",
      "Test Data Index: 7962 computed class:  9 True class:  9\n",
      "Test Data Index: 95 computed class:  4 True class:  4\n",
      "Test Data Index: 1365 computed class:  2 True class:  2\n",
      "Test Data Index: 3839 computed class:  3 True class:  2\n",
      "Test Data Index: 7750 computed class:  3 True class:  3\n",
      "Test Data Index: 5690 computed class:  6 True class:  6\n",
      "Test Data Index: 2375 computed class:  4 True class:  4\n",
      "Test Data Index: 8159 computed class:  1 True class:  1\n",
      "Test Data Index: 1762 computed class:  8 True class:  0\n",
      "Test Data Index: 6182 computed class:  1 True class:  1\n",
      "Test Data Index: 496 computed class:  9 True class:  9\n",
      "accuracy:  0.81\n"
     ]
    }
   ],
   "source": [
    "wrong = 0\n",
    "for i in sample:\n",
    "    print(\"Test Data Index: \"+ str(i), end =' ')\n",
    "    result = weighted_classify(new_xtrain, new_xtest[i], 3, t_train)\n",
    "    print(\"computed class: \",result, end =' ')\n",
    "    print(\"True class: \", t_test[i])# flowers 딕셔너리 안을 참고하면, 0이 나올시 Setosa, 1이 나올시 Versicolor, 2가 나올시 Vitginica가 출력됨을 알 수 있다\n",
    "    if(result != t_test[i]):\n",
    "        wrong += 1\n",
    "print(\"accuracy: \",1- wrong/100)"
   ]
  },
  {
   "cell_type": "code",
   "execution_count": 33,
   "metadata": {
    "scrolled": true
   },
   "outputs": [
    {
     "name": "stdout",
     "output_type": "stream",
     "text": [
      "Test Data Index: 7446 computed class:  0 True class:  0\n",
      "Test Data Index: 3749 computed class:  0 True class:  6\n",
      "Test Data Index: 4742 computed class:  7 True class:  7\n",
      "Test Data Index: 779 computed class:  7 True class:  5\n",
      "Test Data Index: 3557 computed class:  1 True class:  6\n",
      "Test Data Index: 5581 computed class:  6 True class:  6\n",
      "Test Data Index: 7416 computed class:  7 True class:  7\n",
      "Test Data Index: 1964 computed class:  9 True class:  9\n",
      "Test Data Index: 2818 computed class:  4 True class:  4\n",
      "Test Data Index: 3890 computed class:  5 True class:  5\n",
      "Test Data Index: 3069 computed class:  4 True class:  4\n",
      "Test Data Index: 760 computed class:  4 True class:  4\n",
      "Test Data Index: 7525 computed class:  9 True class:  9\n",
      "Test Data Index: 7232 computed class:  1 True class:  1\n",
      "Test Data Index: 9033 computed class:  4 True class:  4\n",
      "Test Data Index: 2719 computed class:  1 True class:  1\n",
      "Test Data Index: 3201 computed class:  2 True class:  2\n",
      "Test Data Index: 5262 computed class:  9 True class:  9\n",
      "Test Data Index: 6059 computed class:  9 True class:  3\n",
      "Test Data Index: 9570 computed class:  1 True class:  1\n",
      "Test Data Index: 13 computed class:  8 True class:  0\n",
      "Test Data Index: 9739 computed class:  0 True class:  0\n",
      "Test Data Index: 8782 computed class:  9 True class:  9\n",
      "Test Data Index: 227 computed class:  4 True class:  4\n",
      "Test Data Index: 8252 computed class:  1 True class:  1\n",
      "Test Data Index: 552 computed class:  0 True class:  0\n",
      "Test Data Index: 1063 computed class:  9 True class:  9\n",
      "Test Data Index: 8586 computed class:  1 True class:  1\n",
      "Test Data Index: 4632 computed class:  6 True class:  2\n",
      "Test Data Index: 2142 computed class:  0 True class:  8\n",
      "Test Data Index: 5922 computed class:  5 True class:  5\n",
      "Test Data Index: 8383 computed class:  3 True class:  9\n",
      "Test Data Index: 161 computed class:  6 True class:  6\n",
      "Test Data Index: 1602 computed class:  6 True class:  6\n",
      "Test Data Index: 320 computed class:  7 True class:  9\n",
      "Test Data Index: 8572 computed class:  6 True class:  6\n",
      "Test Data Index: 2130 computed class:  9 True class:  4\n",
      "Test Data Index: 8438 computed class:  2 True class:  2\n",
      "Test Data Index: 8636 computed class:  1 True class:  1\n",
      "Test Data Index: 7488 computed class:  4 True class:  4\n",
      "Test Data Index: 4227 computed class:  0 True class:  0\n",
      "Test Data Index: 6993 computed class:  2 True class:  2\n",
      "Test Data Index: 6197 computed class:  6 True class:  6\n",
      "Test Data Index: 5406 computed class:  1 True class:  1\n",
      "Test Data Index: 7008 computed class:  9 True class:  9\n",
      "Test Data Index: 7000 computed class:  1 True class:  1\n",
      "Test Data Index: 9341 computed class:  2 True class:  2\n",
      "Test Data Index: 3782 computed class:  8 True class:  8\n",
      "Test Data Index: 8130 computed class:  3 True class:  3\n",
      "Test Data Index: 1327 computed class:  9 True class:  9\n",
      "Test Data Index: 6385 computed class:  2 True class:  5\n",
      "Test Data Index: 6128 computed class:  6 True class:  6\n",
      "Test Data Index: 9339 computed class:  0 True class:  0\n",
      "Test Data Index: 1328 computed class:  7 True class:  7\n",
      "Test Data Index: 1546 computed class:  2 True class:  2\n",
      "Test Data Index: 6811 computed class:  3 True class:  3\n",
      "Test Data Index: 6616 computed class:  2 True class:  2\n",
      "Test Data Index: 5717 computed class:  0 True class:  2\n",
      "Test Data Index: 3625 computed class:  1 True class:  1\n",
      "Test Data Index: 656 computed class:  0 True class:  0\n",
      "Test Data Index: 9307 computed class:  8 True class:  8\n",
      "Test Data Index: 7364 computed class:  2 True class:  2\n",
      "Test Data Index: 2290 computed class:  7 True class:  7\n",
      "Test Data Index: 5074 computed class:  3 True class:  3\n",
      "Test Data Index: 9983 computed class:  0 True class:  0\n",
      "Test Data Index: 9396 computed class:  0 True class:  0\n",
      "Test Data Index: 4322 computed class:  7 True class:  7\n",
      "Test Data Index: 2594 computed class:  3 True class:  3\n",
      "Test Data Index: 1046 computed class:  3 True class:  5\n",
      "Test Data Index: 4906 computed class:  4 True class:  4\n",
      "Test Data Index: 4112 computed class:  8 True class:  8\n",
      "Test Data Index: 121 computed class:  4 True class:  4\n",
      "Test Data Index: 6425 computed class:  0 True class:  6\n",
      "Test Data Index: 8516 computed class:  6 True class:  6\n",
      "Test Data Index: 3343 computed class:  8 True class:  8\n",
      "Test Data Index: 2308 computed class:  8 True class:  3\n",
      "Test Data Index: 7965 computed class:  3 True class:  5\n",
      "Test Data Index: 3163 computed class:  8 True class:  8\n",
      "Test Data Index: 6601 computed class:  1 True class:  1\n",
      "Test Data Index: 7709 computed class:  6 True class:  6\n",
      "Test Data Index: 6684 computed class:  7 True class:  7\n",
      "Test Data Index: 9454 computed class:  6 True class:  6\n",
      "Test Data Index: 8425 computed class:  0 True class:  0\n",
      "Test Data Index: 2078 computed class:  5 True class:  5\n",
      "Test Data Index: 73 computed class:  9 True class:  9\n",
      "Test Data Index: 5032 computed class:  4 True class:  4\n",
      "Test Data Index: 1806 computed class:  7 True class:  7\n",
      "Test Data Index: 4378 computed class:  3 True class:  5\n",
      "Test Data Index: 4467 computed class:  7 True class:  7\n",
      "Test Data Index: 7962 computed class:  9 True class:  9\n",
      "Test Data Index: 95 computed class:  4 True class:  4\n",
      "Test Data Index: 1365 computed class:  2 True class:  2\n",
      "Test Data Index: 3839 computed class:  2 True class:  2\n",
      "Test Data Index: 7750 computed class:  3 True class:  3\n",
      "Test Data Index: 5690 computed class:  6 True class:  6\n",
      "Test Data Index: 2375 computed class:  4 True class:  4\n",
      "Test Data Index: 8159 computed class:  1 True class:  1\n",
      "Test Data Index: 1762 computed class:  8 True class:  0\n",
      "Test Data Index: 6182 computed class:  1 True class:  1\n",
      "Test Data Index: 496 computed class:  9 True class:  9\n",
      "accuracy:  0.8200000000000001\n"
     ]
    }
   ],
   "source": [
    "wrong = 0\n",
    "for i in sample:\n",
    "    print(\"Test Data Index: \"+ str(i), end =' ')\n",
    "    result = weighted_classify(new_xtrain, new_xtest[i], 5, t_train)\n",
    "    print(\"computed class: \",result, end =' ')\n",
    "    print(\"True class: \", t_test[i])# flowers 딕셔너리 안을 참고하면, 0이 나올시 Setosa, 1이 나올시 Versicolor, 2가 나올시 Vitginica가 출력됨을 알 수 있다\n",
    "    if(result != t_test[i]):\n",
    "        wrong += 1\n",
    "print(\"accuracy: \",1- wrong/100)"
   ]
  },
  {
   "cell_type": "code",
   "execution_count": 34,
   "metadata": {},
   "outputs": [
    {
     "name": "stdout",
     "output_type": "stream",
     "text": [
      "Test Data Index: 7446 computed class:  0 True class:  0\n",
      "Test Data Index: 3749 computed class:  0 True class:  6\n",
      "Test Data Index: 4742 computed class:  7 True class:  7\n",
      "Test Data Index: 779 computed class:  7 True class:  5\n",
      "Test Data Index: 3557 computed class:  1 True class:  6\n",
      "Test Data Index: 5581 computed class:  6 True class:  6\n",
      "Test Data Index: 7416 computed class:  7 True class:  7\n",
      "Test Data Index: 1964 computed class:  9 True class:  9\n",
      "Test Data Index: 2818 computed class:  9 True class:  4\n",
      "Test Data Index: 3890 computed class:  5 True class:  5\n",
      "Test Data Index: 3069 computed class:  4 True class:  4\n",
      "Test Data Index: 760 computed class:  4 True class:  4\n",
      "Test Data Index: 7525 computed class:  9 True class:  9\n",
      "Test Data Index: 7232 computed class:  1 True class:  1\n",
      "Test Data Index: 9033 computed class:  4 True class:  4\n",
      "Test Data Index: 2719 computed class:  1 True class:  1\n",
      "Test Data Index: 3201 computed class:  2 True class:  2\n",
      "Test Data Index: 5262 computed class:  9 True class:  9\n",
      "Test Data Index: 6059 computed class:  9 True class:  3\n",
      "Test Data Index: 9570 computed class:  1 True class:  1\n",
      "Test Data Index: 13 computed class:  8 True class:  0\n",
      "Test Data Index: 9739 computed class:  0 True class:  0\n",
      "Test Data Index: 8782 computed class:  9 True class:  9\n",
      "Test Data Index: 227 computed class:  4 True class:  4\n",
      "Test Data Index: 8252 computed class:  1 True class:  1\n",
      "Test Data Index: 552 computed class:  0 True class:  0\n",
      "Test Data Index: 1063 computed class:  9 True class:  9\n",
      "Test Data Index: 8586 computed class:  1 True class:  1\n",
      "Test Data Index: 4632 computed class:  6 True class:  2\n",
      "Test Data Index: 2142 computed class:  0 True class:  8\n",
      "Test Data Index: 5922 computed class:  5 True class:  5\n",
      "Test Data Index: 8383 computed class:  9 True class:  9\n",
      "Test Data Index: 161 computed class:  6 True class:  6\n",
      "Test Data Index: 1602 computed class:  6 True class:  6\n",
      "Test Data Index: 320 computed class:  7 True class:  9\n",
      "Test Data Index: 8572 computed class:  6 True class:  6\n",
      "Test Data Index: 2130 computed class:  9 True class:  4\n",
      "Test Data Index: 8438 computed class:  2 True class:  2\n",
      "Test Data Index: 8636 computed class:  1 True class:  1\n",
      "Test Data Index: 7488 computed class:  4 True class:  4\n",
      "Test Data Index: 4227 computed class:  0 True class:  0\n",
      "Test Data Index: 6993 computed class:  2 True class:  2\n",
      "Test Data Index: 6197 computed class:  6 True class:  6\n",
      "Test Data Index: 5406 computed class:  1 True class:  1\n",
      "Test Data Index: 7008 computed class:  9 True class:  9\n",
      "Test Data Index: 7000 computed class:  1 True class:  1\n",
      "Test Data Index: 9341 computed class:  2 True class:  2\n",
      "Test Data Index: 3782 computed class:  8 True class:  8\n",
      "Test Data Index: 8130 computed class:  3 True class:  3\n",
      "Test Data Index: 1327 computed class:  9 True class:  9\n",
      "Test Data Index: 6385 computed class:  2 True class:  5\n",
      "Test Data Index: 6128 computed class:  6 True class:  6\n",
      "Test Data Index: 9339 computed class:  0 True class:  0\n",
      "Test Data Index: 1328 computed class:  7 True class:  7\n",
      "Test Data Index: 1546 computed class:  2 True class:  2\n",
      "Test Data Index: 6811 computed class:  3 True class:  3\n",
      "Test Data Index: 6616 computed class:  2 True class:  2\n",
      "Test Data Index: 5717 computed class:  0 True class:  2\n",
      "Test Data Index: 3625 computed class:  1 True class:  1\n",
      "Test Data Index: 656 computed class:  0 True class:  0\n",
      "Test Data Index: 9307 computed class:  8 True class:  8\n",
      "Test Data Index: 7364 computed class:  2 True class:  2\n",
      "Test Data Index: 2290 computed class:  7 True class:  7\n",
      "Test Data Index: 5074 computed class:  3 True class:  3\n",
      "Test Data Index: 9983 computed class:  0 True class:  0\n",
      "Test Data Index: 9396 computed class:  0 True class:  0\n",
      "Test Data Index: 4322 computed class:  7 True class:  7\n",
      "Test Data Index: 2594 computed class:  3 True class:  3\n",
      "Test Data Index: 1046 computed class:  3 True class:  5\n",
      "Test Data Index: 4906 computed class:  4 True class:  4\n",
      "Test Data Index: 4112 computed class:  8 True class:  8\n",
      "Test Data Index: 121 computed class:  4 True class:  4\n",
      "Test Data Index: 6425 computed class:  0 True class:  6\n",
      "Test Data Index: 8516 computed class:  6 True class:  6\n",
      "Test Data Index: 3343 computed class:  8 True class:  8\n",
      "Test Data Index: 2308 computed class:  8 True class:  3\n",
      "Test Data Index: 7965 computed class:  3 True class:  5\n",
      "Test Data Index: 3163 computed class:  8 True class:  8\n",
      "Test Data Index: 6601 computed class:  1 True class:  1\n",
      "Test Data Index: 7709 computed class:  6 True class:  6\n",
      "Test Data Index: 6684 computed class:  7 True class:  7\n",
      "Test Data Index: 9454 computed class:  6 True class:  6\n",
      "Test Data Index: 8425 computed class:  0 True class:  0\n",
      "Test Data Index: 2078 computed class:  5 True class:  5\n",
      "Test Data Index: 73 computed class:  8 True class:  9\n",
      "Test Data Index: 5032 computed class:  4 True class:  4\n",
      "Test Data Index: 1806 computed class:  7 True class:  7\n",
      "Test Data Index: 4378 computed class:  3 True class:  5\n",
      "Test Data Index: 4467 computed class:  7 True class:  7\n",
      "Test Data Index: 7962 computed class:  9 True class:  9\n",
      "Test Data Index: 95 computed class:  4 True class:  4\n",
      "Test Data Index: 1365 computed class:  2 True class:  2\n",
      "Test Data Index: 3839 computed class:  2 True class:  2\n",
      "Test Data Index: 7750 computed class:  3 True class:  3\n",
      "Test Data Index: 5690 computed class:  6 True class:  6\n",
      "Test Data Index: 2375 computed class:  4 True class:  4\n",
      "Test Data Index: 8159 computed class:  1 True class:  1\n",
      "Test Data Index: 1762 computed class:  0 True class:  0\n",
      "Test Data Index: 6182 computed class:  1 True class:  1\n",
      "Test Data Index: 496 computed class:  9 True class:  9\n",
      "accuracy:  0.8200000000000001\n"
     ]
    }
   ],
   "source": [
    "wrong = 0\n",
    "for i in sample:\n",
    "    print(\"Test Data Index: \"+ str(i), end =' ')\n",
    "    result = weighted_classify(new_xtrain, new_xtest[i], 7, t_train)\n",
    "    print(\"computed class: \",result, end =' ')\n",
    "    print(\"True class: \", t_test[i])# flowers 딕셔너리 안을 참고하면, 0이 나올시 Setosa, 1이 나올시 Versicolor, 2가 나올시 Vitginica가 출력됨을 알 수 있다\n",
    "    if(result != t_test[i]):\n",
    "        wrong += 1\n",
    "print(\"accuracy: \",1- wrong/100)"
   ]
  },
  {
   "cell_type": "code",
   "execution_count": null,
   "metadata": {},
   "outputs": [],
   "source": []
  }
 ],
 "metadata": {
  "kernelspec": {
   "display_name": "Python 3",
   "language": "python",
   "name": "python3"
  },
  "language_info": {
   "codemirror_mode": {
    "name": "ipython",
    "version": 3
   },
   "file_extension": ".py",
   "mimetype": "text/x-python",
   "name": "python",
   "nbconvert_exporter": "python",
   "pygments_lexer": "ipython3",
   "version": "3.7.7"
  }
 },
 "nbformat": 4,
 "nbformat_minor": 4
}
