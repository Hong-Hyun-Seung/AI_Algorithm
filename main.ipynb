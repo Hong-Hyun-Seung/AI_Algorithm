{
 "cells": [
  {
   "cell_type": "code",
   "execution_count": 1,
   "metadata": {},
   "outputs": [
    {
     "name": "stdout",
     "output_type": "stream",
     "text": [
      "Requirement already satisfied: import_ipynb in c:\\users\\ek hong\\.conda\\envs\\tensorflow\\lib\\site-packages (0.1.3)\n"
     ]
    }
   ],
   "source": [
    "!pip install import_ipynb"
   ]
  },
  {
   "cell_type": "markdown",
   "metadata": {},
   "source": [
    "### 외부 파일을 불러오긴 위한 import_ipynb기능 설치 "
   ]
  },
  {
   "cell_type": "code",
   "execution_count": 2,
   "metadata": {},
   "outputs": [
    {
     "name": "stdout",
     "output_type": "stream",
     "text": [
      "importing Jupyter notebook from m_KNN.ipynb\n"
     ]
    }
   ],
   "source": [
    "import import_ipynb\n",
    "from m_KNN import classify\n",
    "from m_KNN import weighted_classify"
   ]
  },
  {
   "cell_type": "markdown",
   "metadata": {},
   "source": [
    "### 필자가 작성한 외부 파일 m_KNN에서 classify 함수와 weighted_classify함수를 import해온다 <br>classify 함수와 weighted_classify함수에 대한 주석은 m_KNN inpynb파일에 설명해 두었습니다!!"
   ]
  },
  {
   "cell_type": "code",
   "execution_count": 3,
   "metadata": {},
   "outputs": [],
   "source": [
    "import numpy as np\n",
    "#import pandas as pd\n",
    "import matplotlib.pyplot as plt\n",
    "from sklearn.datasets import load_iris"
   ]
  },
  {
   "cell_type": "code",
   "execution_count": 4,
   "metadata": {},
   "outputs": [],
   "source": [
    "iris = load_iris()"
   ]
  },
  {
   "cell_type": "code",
   "execution_count": 5,
   "metadata": {},
   "outputs": [],
   "source": [
    "X = iris.data"
   ]
  },
  {
   "cell_type": "code",
   "execution_count": 6,
   "metadata": {},
   "outputs": [
    {
     "data": {
      "text/plain": [
       "array([[5.1, 3.5, 1.4, 0.2],\n",
       "       [4.9, 3. , 1.4, 0.2],\n",
       "       [4.7, 3.2, 1.3, 0.2],\n",
       "       [4.6, 3.1, 1.5, 0.2],\n",
       "       [5. , 3.6, 1.4, 0.2],\n",
       "       [5.4, 3.9, 1.7, 0.4],\n",
       "       [4.6, 3.4, 1.4, 0.3],\n",
       "       [5. , 3.4, 1.5, 0.2],\n",
       "       [4.4, 2.9, 1.4, 0.2],\n",
       "       [4.9, 3.1, 1.5, 0.1],\n",
       "       [5.4, 3.7, 1.5, 0.2],\n",
       "       [4.8, 3.4, 1.6, 0.2],\n",
       "       [4.8, 3. , 1.4, 0.1],\n",
       "       [4.3, 3. , 1.1, 0.1],\n",
       "       [5.8, 4. , 1.2, 0.2],\n",
       "       [5.7, 4.4, 1.5, 0.4],\n",
       "       [5.4, 3.9, 1.3, 0.4],\n",
       "       [5.1, 3.5, 1.4, 0.3],\n",
       "       [5.7, 3.8, 1.7, 0.3],\n",
       "       [5.1, 3.8, 1.5, 0.3],\n",
       "       [5.4, 3.4, 1.7, 0.2],\n",
       "       [5.1, 3.7, 1.5, 0.4],\n",
       "       [4.6, 3.6, 1. , 0.2],\n",
       "       [5.1, 3.3, 1.7, 0.5],\n",
       "       [4.8, 3.4, 1.9, 0.2],\n",
       "       [5. , 3. , 1.6, 0.2],\n",
       "       [5. , 3.4, 1.6, 0.4],\n",
       "       [5.2, 3.5, 1.5, 0.2],\n",
       "       [5.2, 3.4, 1.4, 0.2],\n",
       "       [4.7, 3.2, 1.6, 0.2],\n",
       "       [4.8, 3.1, 1.6, 0.2],\n",
       "       [5.4, 3.4, 1.5, 0.4],\n",
       "       [5.2, 4.1, 1.5, 0.1],\n",
       "       [5.5, 4.2, 1.4, 0.2],\n",
       "       [4.9, 3.1, 1.5, 0.2],\n",
       "       [5. , 3.2, 1.2, 0.2],\n",
       "       [5.5, 3.5, 1.3, 0.2],\n",
       "       [4.9, 3.6, 1.4, 0.1],\n",
       "       [4.4, 3. , 1.3, 0.2],\n",
       "       [5.1, 3.4, 1.5, 0.2],\n",
       "       [5. , 3.5, 1.3, 0.3],\n",
       "       [4.5, 2.3, 1.3, 0.3],\n",
       "       [4.4, 3.2, 1.3, 0.2],\n",
       "       [5. , 3.5, 1.6, 0.6],\n",
       "       [5.1, 3.8, 1.9, 0.4],\n",
       "       [4.8, 3. , 1.4, 0.3],\n",
       "       [5.1, 3.8, 1.6, 0.2],\n",
       "       [4.6, 3.2, 1.4, 0.2],\n",
       "       [5.3, 3.7, 1.5, 0.2],\n",
       "       [5. , 3.3, 1.4, 0.2],\n",
       "       [7. , 3.2, 4.7, 1.4],\n",
       "       [6.4, 3.2, 4.5, 1.5],\n",
       "       [6.9, 3.1, 4.9, 1.5],\n",
       "       [5.5, 2.3, 4. , 1.3],\n",
       "       [6.5, 2.8, 4.6, 1.5],\n",
       "       [5.7, 2.8, 4.5, 1.3],\n",
       "       [6.3, 3.3, 4.7, 1.6],\n",
       "       [4.9, 2.4, 3.3, 1. ],\n",
       "       [6.6, 2.9, 4.6, 1.3],\n",
       "       [5.2, 2.7, 3.9, 1.4],\n",
       "       [5. , 2. , 3.5, 1. ],\n",
       "       [5.9, 3. , 4.2, 1.5],\n",
       "       [6. , 2.2, 4. , 1. ],\n",
       "       [6.1, 2.9, 4.7, 1.4],\n",
       "       [5.6, 2.9, 3.6, 1.3],\n",
       "       [6.7, 3.1, 4.4, 1.4],\n",
       "       [5.6, 3. , 4.5, 1.5],\n",
       "       [5.8, 2.7, 4.1, 1. ],\n",
       "       [6.2, 2.2, 4.5, 1.5],\n",
       "       [5.6, 2.5, 3.9, 1.1],\n",
       "       [5.9, 3.2, 4.8, 1.8],\n",
       "       [6.1, 2.8, 4. , 1.3],\n",
       "       [6.3, 2.5, 4.9, 1.5],\n",
       "       [6.1, 2.8, 4.7, 1.2],\n",
       "       [6.4, 2.9, 4.3, 1.3],\n",
       "       [6.6, 3. , 4.4, 1.4],\n",
       "       [6.8, 2.8, 4.8, 1.4],\n",
       "       [6.7, 3. , 5. , 1.7],\n",
       "       [6. , 2.9, 4.5, 1.5],\n",
       "       [5.7, 2.6, 3.5, 1. ],\n",
       "       [5.5, 2.4, 3.8, 1.1],\n",
       "       [5.5, 2.4, 3.7, 1. ],\n",
       "       [5.8, 2.7, 3.9, 1.2],\n",
       "       [6. , 2.7, 5.1, 1.6],\n",
       "       [5.4, 3. , 4.5, 1.5],\n",
       "       [6. , 3.4, 4.5, 1.6],\n",
       "       [6.7, 3.1, 4.7, 1.5],\n",
       "       [6.3, 2.3, 4.4, 1.3],\n",
       "       [5.6, 3. , 4.1, 1.3],\n",
       "       [5.5, 2.5, 4. , 1.3],\n",
       "       [5.5, 2.6, 4.4, 1.2],\n",
       "       [6.1, 3. , 4.6, 1.4],\n",
       "       [5.8, 2.6, 4. , 1.2],\n",
       "       [5. , 2.3, 3.3, 1. ],\n",
       "       [5.6, 2.7, 4.2, 1.3],\n",
       "       [5.7, 3. , 4.2, 1.2],\n",
       "       [5.7, 2.9, 4.2, 1.3],\n",
       "       [6.2, 2.9, 4.3, 1.3],\n",
       "       [5.1, 2.5, 3. , 1.1],\n",
       "       [5.7, 2.8, 4.1, 1.3],\n",
       "       [6.3, 3.3, 6. , 2.5],\n",
       "       [5.8, 2.7, 5.1, 1.9],\n",
       "       [7.1, 3. , 5.9, 2.1],\n",
       "       [6.3, 2.9, 5.6, 1.8],\n",
       "       [6.5, 3. , 5.8, 2.2],\n",
       "       [7.6, 3. , 6.6, 2.1],\n",
       "       [4.9, 2.5, 4.5, 1.7],\n",
       "       [7.3, 2.9, 6.3, 1.8],\n",
       "       [6.7, 2.5, 5.8, 1.8],\n",
       "       [7.2, 3.6, 6.1, 2.5],\n",
       "       [6.5, 3.2, 5.1, 2. ],\n",
       "       [6.4, 2.7, 5.3, 1.9],\n",
       "       [6.8, 3. , 5.5, 2.1],\n",
       "       [5.7, 2.5, 5. , 2. ],\n",
       "       [5.8, 2.8, 5.1, 2.4],\n",
       "       [6.4, 3.2, 5.3, 2.3],\n",
       "       [6.5, 3. , 5.5, 1.8],\n",
       "       [7.7, 3.8, 6.7, 2.2],\n",
       "       [7.7, 2.6, 6.9, 2.3],\n",
       "       [6. , 2.2, 5. , 1.5],\n",
       "       [6.9, 3.2, 5.7, 2.3],\n",
       "       [5.6, 2.8, 4.9, 2. ],\n",
       "       [7.7, 2.8, 6.7, 2. ],\n",
       "       [6.3, 2.7, 4.9, 1.8],\n",
       "       [6.7, 3.3, 5.7, 2.1],\n",
       "       [7.2, 3.2, 6. , 1.8],\n",
       "       [6.2, 2.8, 4.8, 1.8],\n",
       "       [6.1, 3. , 4.9, 1.8],\n",
       "       [6.4, 2.8, 5.6, 2.1],\n",
       "       [7.2, 3. , 5.8, 1.6],\n",
       "       [7.4, 2.8, 6.1, 1.9],\n",
       "       [7.9, 3.8, 6.4, 2. ],\n",
       "       [6.4, 2.8, 5.6, 2.2],\n",
       "       [6.3, 2.8, 5.1, 1.5],\n",
       "       [6.1, 2.6, 5.6, 1.4],\n",
       "       [7.7, 3. , 6.1, 2.3],\n",
       "       [6.3, 3.4, 5.6, 2.4],\n",
       "       [6.4, 3.1, 5.5, 1.8],\n",
       "       [6. , 3. , 4.8, 1.8],\n",
       "       [6.9, 3.1, 5.4, 2.1],\n",
       "       [6.7, 3.1, 5.6, 2.4],\n",
       "       [6.9, 3.1, 5.1, 2.3],\n",
       "       [5.8, 2.7, 5.1, 1.9],\n",
       "       [6.8, 3.2, 5.9, 2.3],\n",
       "       [6.7, 3.3, 5.7, 2.5],\n",
       "       [6.7, 3. , 5.2, 2.3],\n",
       "       [6.3, 2.5, 5. , 1.9],\n",
       "       [6.5, 3. , 5.2, 2. ],\n",
       "       [6.2, 3.4, 5.4, 2.3],\n",
       "       [5.9, 3. , 5.1, 1.8]])"
      ]
     },
     "execution_count": 6,
     "metadata": {},
     "output_type": "execute_result"
    }
   ],
   "source": [
    "X"
   ]
  },
  {
   "cell_type": "markdown",
   "metadata": {},
   "source": [
    "X 데이터가 무엇인지 파악한다"
   ]
  },
  {
   "cell_type": "code",
   "execution_count": 7,
   "metadata": {},
   "outputs": [],
   "source": [
    "y = iris.target"
   ]
  },
  {
   "cell_type": "code",
   "execution_count": 8,
   "metadata": {
    "scrolled": false
   },
   "outputs": [
    {
     "data": {
      "text/plain": [
       "array([0, 0, 0, 0, 0, 0, 0, 0, 0, 0, 0, 0, 0, 0, 0, 0, 0, 0, 0, 0, 0, 0,\n",
       "       0, 0, 0, 0, 0, 0, 0, 0, 0, 0, 0, 0, 0, 0, 0, 0, 0, 0, 0, 0, 0, 0,\n",
       "       0, 0, 0, 0, 0, 0, 1, 1, 1, 1, 1, 1, 1, 1, 1, 1, 1, 1, 1, 1, 1, 1,\n",
       "       1, 1, 1, 1, 1, 1, 1, 1, 1, 1, 1, 1, 1, 1, 1, 1, 1, 1, 1, 1, 1, 1,\n",
       "       1, 1, 1, 1, 1, 1, 1, 1, 1, 1, 1, 1, 2, 2, 2, 2, 2, 2, 2, 2, 2, 2,\n",
       "       2, 2, 2, 2, 2, 2, 2, 2, 2, 2, 2, 2, 2, 2, 2, 2, 2, 2, 2, 2, 2, 2,\n",
       "       2, 2, 2, 2, 2, 2, 2, 2, 2, 2, 2, 2, 2, 2, 2, 2, 2, 2])"
      ]
     },
     "execution_count": 8,
     "metadata": {},
     "output_type": "execute_result"
    }
   ],
   "source": [
    "y"
   ]
  },
  {
   "cell_type": "code",
   "execution_count": 9,
   "metadata": {},
   "outputs": [
    {
     "name": "stdout",
     "output_type": "stream",
     "text": [
      "150\n"
     ]
    }
   ],
   "source": [
    "print(len(y))"
   ]
  },
  {
   "cell_type": "markdown",
   "metadata": {},
   "source": [
    "### y 데이터가 무엇인지 파악한다"
   ]
  },
  {
   "cell_type": "code",
   "execution_count": 10,
   "metadata": {},
   "outputs": [],
   "source": [
    "y_name = iris.target_names"
   ]
  },
  {
   "cell_type": "code",
   "execution_count": 11,
   "metadata": {},
   "outputs": [
    {
     "data": {
      "text/plain": [
       "(3,)"
      ]
     },
     "execution_count": 11,
     "metadata": {},
     "output_type": "execute_result"
    }
   ],
   "source": [
    "y_name.shape"
   ]
  },
  {
   "cell_type": "code",
   "execution_count": 12,
   "metadata": {},
   "outputs": [
    {
     "data": {
      "text/plain": [
       "array(['setosa', 'versicolor', 'virginica'], dtype='<U10')"
      ]
     },
     "execution_count": 12,
     "metadata": {},
     "output_type": "execute_result"
    }
   ],
   "source": [
    "y_name"
   ]
  },
  {
   "cell_type": "markdown",
   "metadata": {},
   "source": [
    "### y_name 데이터가 무엇인지 파악한다"
   ]
  },
  {
   "cell_type": "code",
   "execution_count": 13,
   "metadata": {},
   "outputs": [],
   "source": [
    "test_data = []\n",
    "test_data_int = []\n",
    "test_label = []\n",
    "train_data = []\n",
    "train_label = []"
   ]
  },
  {
   "cell_type": "code",
   "execution_count": 14,
   "metadata": {},
   "outputs": [],
   "source": [
    "for i in range(0,150):\n",
    "    if(i % 15 == 14):\n",
    "        test_data.append(X[i])\n",
    "        test_label.append(iris.target[i])\n",
    "    else:\n",
    "        train_data.append(X[i])\n",
    "        train_label.append(y[i])"
   ]
  },
  {
   "cell_type": "code",
   "execution_count": 15,
   "metadata": {},
   "outputs": [
    {
     "data": {
      "text/plain": [
       "[array([5.8, 4. , 1.2, 0.2]),\n",
       " array([4.7, 3.2, 1.6, 0.2]),\n",
       " array([5.1, 3.8, 1.9, 0.4]),\n",
       " array([5.2, 2.7, 3.9, 1.4]),\n",
       " array([6.4, 2.9, 4.3, 1.3]),\n",
       " array([5.5, 2.5, 4. , 1.3]),\n",
       " array([6.5, 3. , 5.8, 2.2]),\n",
       " array([6. , 2.2, 5. , 1.5]),\n",
       " array([6.1, 2.6, 5.6, 1.4]),\n",
       " array([5.9, 3. , 5.1, 1.8])]"
      ]
     },
     "execution_count": 15,
     "metadata": {},
     "output_type": "execute_result"
    }
   ],
   "source": [
    "test_data"
   ]
  },
  {
   "cell_type": "code",
   "execution_count": 16,
   "metadata": {},
   "outputs": [],
   "source": [
    "for i in range (len(test_data)):\n",
    "    test_data[i] = list(map(float, test_data[i]))"
   ]
  },
  {
   "cell_type": "code",
   "execution_count": 17,
   "metadata": {},
   "outputs": [
    {
     "data": {
      "text/plain": [
       "[[5.8, 4.0, 1.2, 0.2],\n",
       " [4.7, 3.2, 1.6, 0.2],\n",
       " [5.1, 3.8, 1.9, 0.4],\n",
       " [5.2, 2.7, 3.9, 1.4],\n",
       " [6.4, 2.9, 4.3, 1.3],\n",
       " [5.5, 2.5, 4.0, 1.3],\n",
       " [6.5, 3.0, 5.8, 2.2],\n",
       " [6.0, 2.2, 5.0, 1.5],\n",
       " [6.1, 2.6, 5.6, 1.4],\n",
       " [5.9, 3.0, 5.1, 1.8]]"
      ]
     },
     "execution_count": 17,
     "metadata": {},
     "output_type": "execute_result"
    }
   ],
   "source": [
    "test_data"
   ]
  },
  {
   "cell_type": "code",
   "execution_count": 18,
   "metadata": {},
   "outputs": [
    {
     "data": {
      "text/plain": [
       "[0, 0, 0, 1, 1, 1, 2, 2, 2, 2]"
      ]
     },
     "execution_count": 18,
     "metadata": {},
     "output_type": "execute_result"
    }
   ],
   "source": [
    "test_label"
   ]
  },
  {
   "cell_type": "code",
   "execution_count": 19,
   "metadata": {},
   "outputs": [
    {
     "data": {
      "text/plain": [
       "[array([5.1, 3.5, 1.4, 0.2]),\n",
       " array([4.9, 3. , 1.4, 0.2]),\n",
       " array([4.7, 3.2, 1.3, 0.2]),\n",
       " array([4.6, 3.1, 1.5, 0.2]),\n",
       " array([5. , 3.6, 1.4, 0.2]),\n",
       " array([5.4, 3.9, 1.7, 0.4]),\n",
       " array([4.6, 3.4, 1.4, 0.3]),\n",
       " array([5. , 3.4, 1.5, 0.2]),\n",
       " array([4.4, 2.9, 1.4, 0.2]),\n",
       " array([4.9, 3.1, 1.5, 0.1]),\n",
       " array([5.4, 3.7, 1.5, 0.2]),\n",
       " array([4.8, 3.4, 1.6, 0.2]),\n",
       " array([4.8, 3. , 1.4, 0.1]),\n",
       " array([4.3, 3. , 1.1, 0.1]),\n",
       " array([5.7, 4.4, 1.5, 0.4]),\n",
       " array([5.4, 3.9, 1.3, 0.4]),\n",
       " array([5.1, 3.5, 1.4, 0.3]),\n",
       " array([5.7, 3.8, 1.7, 0.3]),\n",
       " array([5.1, 3.8, 1.5, 0.3]),\n",
       " array([5.4, 3.4, 1.7, 0.2]),\n",
       " array([5.1, 3.7, 1.5, 0.4]),\n",
       " array([4.6, 3.6, 1. , 0.2]),\n",
       " array([5.1, 3.3, 1.7, 0.5]),\n",
       " array([4.8, 3.4, 1.9, 0.2]),\n",
       " array([5. , 3. , 1.6, 0.2]),\n",
       " array([5. , 3.4, 1.6, 0.4]),\n",
       " array([5.2, 3.5, 1.5, 0.2]),\n",
       " array([5.2, 3.4, 1.4, 0.2]),\n",
       " array([4.8, 3.1, 1.6, 0.2]),\n",
       " array([5.4, 3.4, 1.5, 0.4]),\n",
       " array([5.2, 4.1, 1.5, 0.1]),\n",
       " array([5.5, 4.2, 1.4, 0.2]),\n",
       " array([4.9, 3.1, 1.5, 0.2]),\n",
       " array([5. , 3.2, 1.2, 0.2]),\n",
       " array([5.5, 3.5, 1.3, 0.2]),\n",
       " array([4.9, 3.6, 1.4, 0.1]),\n",
       " array([4.4, 3. , 1.3, 0.2]),\n",
       " array([5.1, 3.4, 1.5, 0.2]),\n",
       " array([5. , 3.5, 1.3, 0.3]),\n",
       " array([4.5, 2.3, 1.3, 0.3]),\n",
       " array([4.4, 3.2, 1.3, 0.2]),\n",
       " array([5. , 3.5, 1.6, 0.6]),\n",
       " array([4.8, 3. , 1.4, 0.3]),\n",
       " array([5.1, 3.8, 1.6, 0.2]),\n",
       " array([4.6, 3.2, 1.4, 0.2]),\n",
       " array([5.3, 3.7, 1.5, 0.2]),\n",
       " array([5. , 3.3, 1.4, 0.2]),\n",
       " array([7. , 3.2, 4.7, 1.4]),\n",
       " array([6.4, 3.2, 4.5, 1.5]),\n",
       " array([6.9, 3.1, 4.9, 1.5]),\n",
       " array([5.5, 2.3, 4. , 1.3]),\n",
       " array([6.5, 2.8, 4.6, 1.5]),\n",
       " array([5.7, 2.8, 4.5, 1.3]),\n",
       " array([6.3, 3.3, 4.7, 1.6]),\n",
       " array([4.9, 2.4, 3.3, 1. ]),\n",
       " array([6.6, 2.9, 4.6, 1.3]),\n",
       " array([5. , 2. , 3.5, 1. ]),\n",
       " array([5.9, 3. , 4.2, 1.5]),\n",
       " array([6. , 2.2, 4. , 1. ]),\n",
       " array([6.1, 2.9, 4.7, 1.4]),\n",
       " array([5.6, 2.9, 3.6, 1.3]),\n",
       " array([6.7, 3.1, 4.4, 1.4]),\n",
       " array([5.6, 3. , 4.5, 1.5]),\n",
       " array([5.8, 2.7, 4.1, 1. ]),\n",
       " array([6.2, 2.2, 4.5, 1.5]),\n",
       " array([5.6, 2.5, 3.9, 1.1]),\n",
       " array([5.9, 3.2, 4.8, 1.8]),\n",
       " array([6.1, 2.8, 4. , 1.3]),\n",
       " array([6.3, 2.5, 4.9, 1.5]),\n",
       " array([6.1, 2.8, 4.7, 1.2]),\n",
       " array([6.6, 3. , 4.4, 1.4]),\n",
       " array([6.8, 2.8, 4.8, 1.4]),\n",
       " array([6.7, 3. , 5. , 1.7]),\n",
       " array([6. , 2.9, 4.5, 1.5]),\n",
       " array([5.7, 2.6, 3.5, 1. ]),\n",
       " array([5.5, 2.4, 3.8, 1.1]),\n",
       " array([5.5, 2.4, 3.7, 1. ]),\n",
       " array([5.8, 2.7, 3.9, 1.2]),\n",
       " array([6. , 2.7, 5.1, 1.6]),\n",
       " array([5.4, 3. , 4.5, 1.5]),\n",
       " array([6. , 3.4, 4.5, 1.6]),\n",
       " array([6.7, 3.1, 4.7, 1.5]),\n",
       " array([6.3, 2.3, 4.4, 1.3]),\n",
       " array([5.6, 3. , 4.1, 1.3]),\n",
       " array([5.5, 2.6, 4.4, 1.2]),\n",
       " array([6.1, 3. , 4.6, 1.4]),\n",
       " array([5.8, 2.6, 4. , 1.2]),\n",
       " array([5. , 2.3, 3.3, 1. ]),\n",
       " array([5.6, 2.7, 4.2, 1.3]),\n",
       " array([5.7, 3. , 4.2, 1.2]),\n",
       " array([5.7, 2.9, 4.2, 1.3]),\n",
       " array([6.2, 2.9, 4.3, 1.3]),\n",
       " array([5.1, 2.5, 3. , 1.1]),\n",
       " array([5.7, 2.8, 4.1, 1.3]),\n",
       " array([6.3, 3.3, 6. , 2.5]),\n",
       " array([5.8, 2.7, 5.1, 1.9]),\n",
       " array([7.1, 3. , 5.9, 2.1]),\n",
       " array([6.3, 2.9, 5.6, 1.8]),\n",
       " array([7.6, 3. , 6.6, 2.1]),\n",
       " array([4.9, 2.5, 4.5, 1.7]),\n",
       " array([7.3, 2.9, 6.3, 1.8]),\n",
       " array([6.7, 2.5, 5.8, 1.8]),\n",
       " array([7.2, 3.6, 6.1, 2.5]),\n",
       " array([6.5, 3.2, 5.1, 2. ]),\n",
       " array([6.4, 2.7, 5.3, 1.9]),\n",
       " array([6.8, 3. , 5.5, 2.1]),\n",
       " array([5.7, 2.5, 5. , 2. ]),\n",
       " array([5.8, 2.8, 5.1, 2.4]),\n",
       " array([6.4, 3.2, 5.3, 2.3]),\n",
       " array([6.5, 3. , 5.5, 1.8]),\n",
       " array([7.7, 3.8, 6.7, 2.2]),\n",
       " array([7.7, 2.6, 6.9, 2.3]),\n",
       " array([6.9, 3.2, 5.7, 2.3]),\n",
       " array([5.6, 2.8, 4.9, 2. ]),\n",
       " array([7.7, 2.8, 6.7, 2. ]),\n",
       " array([6.3, 2.7, 4.9, 1.8]),\n",
       " array([6.7, 3.3, 5.7, 2.1]),\n",
       " array([7.2, 3.2, 6. , 1.8]),\n",
       " array([6.2, 2.8, 4.8, 1.8]),\n",
       " array([6.1, 3. , 4.9, 1.8]),\n",
       " array([6.4, 2.8, 5.6, 2.1]),\n",
       " array([7.2, 3. , 5.8, 1.6]),\n",
       " array([7.4, 2.8, 6.1, 1.9]),\n",
       " array([7.9, 3.8, 6.4, 2. ]),\n",
       " array([6.4, 2.8, 5.6, 2.2]),\n",
       " array([6.3, 2.8, 5.1, 1.5]),\n",
       " array([7.7, 3. , 6.1, 2.3]),\n",
       " array([6.3, 3.4, 5.6, 2.4]),\n",
       " array([6.4, 3.1, 5.5, 1.8]),\n",
       " array([6. , 3. , 4.8, 1.8]),\n",
       " array([6.9, 3.1, 5.4, 2.1]),\n",
       " array([6.7, 3.1, 5.6, 2.4]),\n",
       " array([6.9, 3.1, 5.1, 2.3]),\n",
       " array([5.8, 2.7, 5.1, 1.9]),\n",
       " array([6.8, 3.2, 5.9, 2.3]),\n",
       " array([6.7, 3.3, 5.7, 2.5]),\n",
       " array([6.7, 3. , 5.2, 2.3]),\n",
       " array([6.3, 2.5, 5. , 1.9]),\n",
       " array([6.5, 3. , 5.2, 2. ]),\n",
       " array([6.2, 3.4, 5.4, 2.3])]"
      ]
     },
     "execution_count": 19,
     "metadata": {},
     "output_type": "execute_result"
    }
   ],
   "source": [
    "train_data"
   ]
  },
  {
   "cell_type": "code",
   "execution_count": 20,
   "metadata": {},
   "outputs": [],
   "source": [
    "for i in range (len(train_data)):\n",
    "    train_data[i] = list(map(float, train_data[i]))"
   ]
  },
  {
   "cell_type": "code",
   "execution_count": 21,
   "metadata": {},
   "outputs": [
    {
     "data": {
      "text/plain": [
       "[[5.1, 3.5, 1.4, 0.2],\n",
       " [4.9, 3.0, 1.4, 0.2],\n",
       " [4.7, 3.2, 1.3, 0.2],\n",
       " [4.6, 3.1, 1.5, 0.2],\n",
       " [5.0, 3.6, 1.4, 0.2],\n",
       " [5.4, 3.9, 1.7, 0.4],\n",
       " [4.6, 3.4, 1.4, 0.3],\n",
       " [5.0, 3.4, 1.5, 0.2],\n",
       " [4.4, 2.9, 1.4, 0.2],\n",
       " [4.9, 3.1, 1.5, 0.1],\n",
       " [5.4, 3.7, 1.5, 0.2],\n",
       " [4.8, 3.4, 1.6, 0.2],\n",
       " [4.8, 3.0, 1.4, 0.1],\n",
       " [4.3, 3.0, 1.1, 0.1],\n",
       " [5.7, 4.4, 1.5, 0.4],\n",
       " [5.4, 3.9, 1.3, 0.4],\n",
       " [5.1, 3.5, 1.4, 0.3],\n",
       " [5.7, 3.8, 1.7, 0.3],\n",
       " [5.1, 3.8, 1.5, 0.3],\n",
       " [5.4, 3.4, 1.7, 0.2],\n",
       " [5.1, 3.7, 1.5, 0.4],\n",
       " [4.6, 3.6, 1.0, 0.2],\n",
       " [5.1, 3.3, 1.7, 0.5],\n",
       " [4.8, 3.4, 1.9, 0.2],\n",
       " [5.0, 3.0, 1.6, 0.2],\n",
       " [5.0, 3.4, 1.6, 0.4],\n",
       " [5.2, 3.5, 1.5, 0.2],\n",
       " [5.2, 3.4, 1.4, 0.2],\n",
       " [4.8, 3.1, 1.6, 0.2],\n",
       " [5.4, 3.4, 1.5, 0.4],\n",
       " [5.2, 4.1, 1.5, 0.1],\n",
       " [5.5, 4.2, 1.4, 0.2],\n",
       " [4.9, 3.1, 1.5, 0.2],\n",
       " [5.0, 3.2, 1.2, 0.2],\n",
       " [5.5, 3.5, 1.3, 0.2],\n",
       " [4.9, 3.6, 1.4, 0.1],\n",
       " [4.4, 3.0, 1.3, 0.2],\n",
       " [5.1, 3.4, 1.5, 0.2],\n",
       " [5.0, 3.5, 1.3, 0.3],\n",
       " [4.5, 2.3, 1.3, 0.3],\n",
       " [4.4, 3.2, 1.3, 0.2],\n",
       " [5.0, 3.5, 1.6, 0.6],\n",
       " [4.8, 3.0, 1.4, 0.3],\n",
       " [5.1, 3.8, 1.6, 0.2],\n",
       " [4.6, 3.2, 1.4, 0.2],\n",
       " [5.3, 3.7, 1.5, 0.2],\n",
       " [5.0, 3.3, 1.4, 0.2],\n",
       " [7.0, 3.2, 4.7, 1.4],\n",
       " [6.4, 3.2, 4.5, 1.5],\n",
       " [6.9, 3.1, 4.9, 1.5],\n",
       " [5.5, 2.3, 4.0, 1.3],\n",
       " [6.5, 2.8, 4.6, 1.5],\n",
       " [5.7, 2.8, 4.5, 1.3],\n",
       " [6.3, 3.3, 4.7, 1.6],\n",
       " [4.9, 2.4, 3.3, 1.0],\n",
       " [6.6, 2.9, 4.6, 1.3],\n",
       " [5.0, 2.0, 3.5, 1.0],\n",
       " [5.9, 3.0, 4.2, 1.5],\n",
       " [6.0, 2.2, 4.0, 1.0],\n",
       " [6.1, 2.9, 4.7, 1.4],\n",
       " [5.6, 2.9, 3.6, 1.3],\n",
       " [6.7, 3.1, 4.4, 1.4],\n",
       " [5.6, 3.0, 4.5, 1.5],\n",
       " [5.8, 2.7, 4.1, 1.0],\n",
       " [6.2, 2.2, 4.5, 1.5],\n",
       " [5.6, 2.5, 3.9, 1.1],\n",
       " [5.9, 3.2, 4.8, 1.8],\n",
       " [6.1, 2.8, 4.0, 1.3],\n",
       " [6.3, 2.5, 4.9, 1.5],\n",
       " [6.1, 2.8, 4.7, 1.2],\n",
       " [6.6, 3.0, 4.4, 1.4],\n",
       " [6.8, 2.8, 4.8, 1.4],\n",
       " [6.7, 3.0, 5.0, 1.7],\n",
       " [6.0, 2.9, 4.5, 1.5],\n",
       " [5.7, 2.6, 3.5, 1.0],\n",
       " [5.5, 2.4, 3.8, 1.1],\n",
       " [5.5, 2.4, 3.7, 1.0],\n",
       " [5.8, 2.7, 3.9, 1.2],\n",
       " [6.0, 2.7, 5.1, 1.6],\n",
       " [5.4, 3.0, 4.5, 1.5],\n",
       " [6.0, 3.4, 4.5, 1.6],\n",
       " [6.7, 3.1, 4.7, 1.5],\n",
       " [6.3, 2.3, 4.4, 1.3],\n",
       " [5.6, 3.0, 4.1, 1.3],\n",
       " [5.5, 2.6, 4.4, 1.2],\n",
       " [6.1, 3.0, 4.6, 1.4],\n",
       " [5.8, 2.6, 4.0, 1.2],\n",
       " [5.0, 2.3, 3.3, 1.0],\n",
       " [5.6, 2.7, 4.2, 1.3],\n",
       " [5.7, 3.0, 4.2, 1.2],\n",
       " [5.7, 2.9, 4.2, 1.3],\n",
       " [6.2, 2.9, 4.3, 1.3],\n",
       " [5.1, 2.5, 3.0, 1.1],\n",
       " [5.7, 2.8, 4.1, 1.3],\n",
       " [6.3, 3.3, 6.0, 2.5],\n",
       " [5.8, 2.7, 5.1, 1.9],\n",
       " [7.1, 3.0, 5.9, 2.1],\n",
       " [6.3, 2.9, 5.6, 1.8],\n",
       " [7.6, 3.0, 6.6, 2.1],\n",
       " [4.9, 2.5, 4.5, 1.7],\n",
       " [7.3, 2.9, 6.3, 1.8],\n",
       " [6.7, 2.5, 5.8, 1.8],\n",
       " [7.2, 3.6, 6.1, 2.5],\n",
       " [6.5, 3.2, 5.1, 2.0],\n",
       " [6.4, 2.7, 5.3, 1.9],\n",
       " [6.8, 3.0, 5.5, 2.1],\n",
       " [5.7, 2.5, 5.0, 2.0],\n",
       " [5.8, 2.8, 5.1, 2.4],\n",
       " [6.4, 3.2, 5.3, 2.3],\n",
       " [6.5, 3.0, 5.5, 1.8],\n",
       " [7.7, 3.8, 6.7, 2.2],\n",
       " [7.7, 2.6, 6.9, 2.3],\n",
       " [6.9, 3.2, 5.7, 2.3],\n",
       " [5.6, 2.8, 4.9, 2.0],\n",
       " [7.7, 2.8, 6.7, 2.0],\n",
       " [6.3, 2.7, 4.9, 1.8],\n",
       " [6.7, 3.3, 5.7, 2.1],\n",
       " [7.2, 3.2, 6.0, 1.8],\n",
       " [6.2, 2.8, 4.8, 1.8],\n",
       " [6.1, 3.0, 4.9, 1.8],\n",
       " [6.4, 2.8, 5.6, 2.1],\n",
       " [7.2, 3.0, 5.8, 1.6],\n",
       " [7.4, 2.8, 6.1, 1.9],\n",
       " [7.9, 3.8, 6.4, 2.0],\n",
       " [6.4, 2.8, 5.6, 2.2],\n",
       " [6.3, 2.8, 5.1, 1.5],\n",
       " [7.7, 3.0, 6.1, 2.3],\n",
       " [6.3, 3.4, 5.6, 2.4],\n",
       " [6.4, 3.1, 5.5, 1.8],\n",
       " [6.0, 3.0, 4.8, 1.8],\n",
       " [6.9, 3.1, 5.4, 2.1],\n",
       " [6.7, 3.1, 5.6, 2.4],\n",
       " [6.9, 3.1, 5.1, 2.3],\n",
       " [5.8, 2.7, 5.1, 1.9],\n",
       " [6.8, 3.2, 5.9, 2.3],\n",
       " [6.7, 3.3, 5.7, 2.5],\n",
       " [6.7, 3.0, 5.2, 2.3],\n",
       " [6.3, 2.5, 5.0, 1.9],\n",
       " [6.5, 3.0, 5.2, 2.0],\n",
       " [6.2, 3.4, 5.4, 2.3]]"
      ]
     },
     "execution_count": 21,
     "metadata": {},
     "output_type": "execute_result"
    }
   ],
   "source": [
    "train_data"
   ]
  },
  {
   "cell_type": "code",
   "execution_count": 22,
   "metadata": {},
   "outputs": [
    {
     "data": {
      "text/plain": [
       "[0,\n",
       " 0,\n",
       " 0,\n",
       " 0,\n",
       " 0,\n",
       " 0,\n",
       " 0,\n",
       " 0,\n",
       " 0,\n",
       " 0,\n",
       " 0,\n",
       " 0,\n",
       " 0,\n",
       " 0,\n",
       " 0,\n",
       " 0,\n",
       " 0,\n",
       " 0,\n",
       " 0,\n",
       " 0,\n",
       " 0,\n",
       " 0,\n",
       " 0,\n",
       " 0,\n",
       " 0,\n",
       " 0,\n",
       " 0,\n",
       " 0,\n",
       " 0,\n",
       " 0,\n",
       " 0,\n",
       " 0,\n",
       " 0,\n",
       " 0,\n",
       " 0,\n",
       " 0,\n",
       " 0,\n",
       " 0,\n",
       " 0,\n",
       " 0,\n",
       " 0,\n",
       " 0,\n",
       " 0,\n",
       " 0,\n",
       " 0,\n",
       " 0,\n",
       " 0,\n",
       " 1,\n",
       " 1,\n",
       " 1,\n",
       " 1,\n",
       " 1,\n",
       " 1,\n",
       " 1,\n",
       " 1,\n",
       " 1,\n",
       " 1,\n",
       " 1,\n",
       " 1,\n",
       " 1,\n",
       " 1,\n",
       " 1,\n",
       " 1,\n",
       " 1,\n",
       " 1,\n",
       " 1,\n",
       " 1,\n",
       " 1,\n",
       " 1,\n",
       " 1,\n",
       " 1,\n",
       " 1,\n",
       " 1,\n",
       " 1,\n",
       " 1,\n",
       " 1,\n",
       " 1,\n",
       " 1,\n",
       " 1,\n",
       " 1,\n",
       " 1,\n",
       " 1,\n",
       " 1,\n",
       " 1,\n",
       " 1,\n",
       " 1,\n",
       " 1,\n",
       " 1,\n",
       " 1,\n",
       " 1,\n",
       " 1,\n",
       " 1,\n",
       " 1,\n",
       " 1,\n",
       " 2,\n",
       " 2,\n",
       " 2,\n",
       " 2,\n",
       " 2,\n",
       " 2,\n",
       " 2,\n",
       " 2,\n",
       " 2,\n",
       " 2,\n",
       " 2,\n",
       " 2,\n",
       " 2,\n",
       " 2,\n",
       " 2,\n",
       " 2,\n",
       " 2,\n",
       " 2,\n",
       " 2,\n",
       " 2,\n",
       " 2,\n",
       " 2,\n",
       " 2,\n",
       " 2,\n",
       " 2,\n",
       " 2,\n",
       " 2,\n",
       " 2,\n",
       " 2,\n",
       " 2,\n",
       " 2,\n",
       " 2,\n",
       " 2,\n",
       " 2,\n",
       " 2,\n",
       " 2,\n",
       " 2,\n",
       " 2,\n",
       " 2,\n",
       " 2,\n",
       " 2,\n",
       " 2,\n",
       " 2,\n",
       " 2,\n",
       " 2,\n",
       " 2]"
      ]
     },
     "execution_count": 22,
     "metadata": {},
     "output_type": "execute_result"
    }
   ],
   "source": [
    "train_label"
   ]
  },
  {
   "cell_type": "markdown",
   "metadata": {},
   "source": [
    "### train test split을 해준다"
   ]
  },
  {
   "cell_type": "code",
   "execution_count": 23,
   "metadata": {},
   "outputs": [],
   "source": [
    "flowers = {0: 'Setosa', 1: 'Versicolor', 2:'Virginica'}"
   ]
  },
  {
   "cell_type": "markdown",
   "metadata": {},
   "source": [
    "### Majority Vote, K = 3"
   ]
  },
  {
   "cell_type": "code",
   "execution_count": 24,
   "metadata": {
    "scrolled": false
   },
   "outputs": [
    {
     "name": "stdout",
     "output_type": "stream",
     "text": [
      "Test Data Index: 0 computed class: Setosa True class: Setosa\n",
      "Test Data Index: 1 computed class: Setosa True class: Setosa\n",
      "Test Data Index: 2 computed class: Setosa True class: Setosa\n",
      "Test Data Index: 3 computed class: Versicolor True class: Versicolor\n",
      "Test Data Index: 4 computed class: Versicolor True class: Versicolor\n",
      "Test Data Index: 5 computed class: Versicolor True class: Versicolor\n",
      "Test Data Index: 6 computed class: Virginica True class: Virginica\n",
      "Test Data Index: 7 computed class: Versicolor True class: Virginica\n",
      "Test Data Index: 8 computed class: Virginica True class: Virginica\n",
      "Test Data Index: 9 computed class: Virginica True class: Virginica\n"
     ]
    }
   ],
   "source": [
    "for i in range(10):\n",
    "    print(\"Test Data Index: \"+ str(i), end =' ')\n",
    "    classify(train_data, test_data[i], 3, train_label)\n",
    "    print(\"True class: \"+ flowers[int(test_label[i])])# flowers 딕셔너리 안을 참고하면, 0이 나올시 Setosa, 1이 나올시 Versicolor, 2가 나올시 Vitginica가 출력됨을 알 수 있다"
   ]
  },
  {
   "cell_type": "markdown",
   "metadata": {},
   "source": [
    "### Majority Vote, K = 5"
   ]
  },
  {
   "cell_type": "code",
   "execution_count": 25,
   "metadata": {},
   "outputs": [
    {
     "name": "stdout",
     "output_type": "stream",
     "text": [
      "Test Data Index: 0 computed class: Setosa True class: Setosa\n",
      "Test Data Index: 1 computed class: Setosa True class: Setosa\n",
      "Test Data Index: 2 computed class: Setosa True class: Setosa\n",
      "Test Data Index: 3 computed class: Versicolor True class: Versicolor\n",
      "Test Data Index: 4 computed class: Versicolor True class: Versicolor\n",
      "Test Data Index: 5 computed class: Versicolor True class: Versicolor\n",
      "Test Data Index: 6 computed class: Virginica True class: Virginica\n",
      "Test Data Index: 7 computed class: Versicolor True class: Virginica\n",
      "Test Data Index: 8 computed class: Virginica True class: Virginica\n",
      "Test Data Index: 9 computed class: Virginica True class: Virginica\n"
     ]
    }
   ],
   "source": [
    "for i in range(10):\n",
    "    print(\"Test Data Index: \"+ str(i), end =' ')\n",
    "    classify(train_data, test_data[i], 5, train_label)\n",
    "    print(\"True class: \"+ flowers[int(test_label[i])])"
   ]
  },
  {
   "cell_type": "markdown",
   "metadata": {},
   "source": [
    "### Majority Vote, K = 10"
   ]
  },
  {
   "cell_type": "code",
   "execution_count": 26,
   "metadata": {},
   "outputs": [
    {
     "name": "stdout",
     "output_type": "stream",
     "text": [
      "Test Data Index: 0 computed class: Setosa True class: Setosa\n",
      "Test Data Index: 1 computed class: Setosa True class: Setosa\n",
      "Test Data Index: 2 computed class: Setosa True class: Setosa\n",
      "Test Data Index: 3 computed class: Versicolor True class: Versicolor\n",
      "Test Data Index: 4 computed class: Versicolor True class: Versicolor\n",
      "Test Data Index: 5 computed class: Versicolor True class: Versicolor\n",
      "Test Data Index: 6 computed class: Virginica True class: Virginica\n",
      "Test Data Index: 7 computed class: Virginica True class: Virginica\n",
      "Test Data Index: 8 computed class: Virginica True class: Virginica\n",
      "Test Data Index: 9 computed class: Virginica True class: Virginica\n"
     ]
    }
   ],
   "source": [
    "for i in range(10):\n",
    "    print(\"Test Data Index: \"+ str(i), end =' ')\n",
    "    classify(train_data, test_data[i], 10, train_label)\n",
    "    print(\"True class: \"+ flowers[int(test_label[i])])"
   ]
  },
  {
   "cell_type": "markdown",
   "metadata": {},
   "source": [
    "### Weighted Majority Vote, K = 3"
   ]
  },
  {
   "cell_type": "code",
   "execution_count": 27,
   "metadata": {
    "scrolled": true
   },
   "outputs": [
    {
     "name": "stdout",
     "output_type": "stream",
     "text": [
      "Test Data Index: 0 computed class: Setosa True class: Setosa\n",
      "Test Data Index: 1 computed class: Setosa True class: Setosa\n",
      "Test Data Index: 2 computed class: Setosa True class: Setosa\n",
      "Test Data Index: 3 computed class: Versicolor True class: Versicolor\n",
      "Test Data Index: 4 computed class: Versicolor True class: Versicolor\n",
      "Test Data Index: 5 computed class: Versicolor True class: Versicolor\n",
      "Test Data Index: 6 computed class: Virginica True class: Virginica\n",
      "Test Data Index: 7 computed class: Versicolor True class: Virginica\n",
      "Test Data Index: 8 computed class: Versicolor True class: Virginica\n",
      "Test Data Index: 9 computed class: Virginica True class: Virginica\n"
     ]
    }
   ],
   "source": [
    "for i in range(10):\n",
    "    print(\"Test Data Index: \"+ str(i), end =' ')\n",
    "    weighted_classify(train_data, test_data[i], 3, train_label)\n",
    "    print(\"True class: \"+ flowers[int(test_label[i])])"
   ]
  },
  {
   "cell_type": "markdown",
   "metadata": {},
   "source": [
    "### Weighted Majority Vote, K = 5"
   ]
  },
  {
   "cell_type": "code",
   "execution_count": 28,
   "metadata": {},
   "outputs": [
    {
     "name": "stdout",
     "output_type": "stream",
     "text": [
      "Test Data Index: 0 computed class: Setosa True class: Setosa\n",
      "Test Data Index: 1 computed class: Setosa True class: Setosa\n",
      "Test Data Index: 2 computed class: Setosa True class: Setosa\n",
      "Test Data Index: 3 computed class: Versicolor True class: Versicolor\n",
      "Test Data Index: 4 computed class: Versicolor True class: Versicolor\n",
      "Test Data Index: 5 computed class: Versicolor True class: Versicolor\n",
      "Test Data Index: 6 computed class: Virginica True class: Virginica\n",
      "Test Data Index: 7 computed class: Versicolor True class: Virginica\n",
      "Test Data Index: 8 computed class: Versicolor True class: Virginica\n",
      "Test Data Index: 9 computed class: Versicolor True class: Virginica\n"
     ]
    }
   ],
   "source": [
    "for i in range(10):\n",
    "    print(\"Test Data Index: \"+ str(i), end =' ')\n",
    "    weighted_classify(train_data, test_data[i], 5, train_label)\n",
    "    print(\"True class: \"+ flowers[int(test_label[i])])"
   ]
  },
  {
   "cell_type": "markdown",
   "metadata": {},
   "source": [
    "### Weighted Majority Vote, K = 10"
   ]
  },
  {
   "cell_type": "code",
   "execution_count": 29,
   "metadata": {
    "scrolled": true
   },
   "outputs": [
    {
     "name": "stdout",
     "output_type": "stream",
     "text": [
      "Test Data Index: 0 computed class: Setosa True class: Setosa\n",
      "Test Data Index: 1 computed class: Setosa True class: Setosa\n",
      "Test Data Index: 2 computed class: Setosa True class: Setosa\n",
      "Test Data Index: 3 computed class: Versicolor True class: Versicolor\n",
      "Test Data Index: 4 computed class: Versicolor True class: Versicolor\n",
      "Test Data Index: 5 computed class: Versicolor True class: Versicolor\n",
      "Test Data Index: 6 computed class: Virginica True class: Virginica\n",
      "Test Data Index: 7 computed class: Versicolor True class: Virginica\n",
      "Test Data Index: 8 computed class: Versicolor True class: Virginica\n",
      "Test Data Index: 9 computed class: Virginica True class: Virginica\n"
     ]
    }
   ],
   "source": [
    "for i in range(10):\n",
    "    print(\"Test Data Index: \"+ str(i), end =' ')\n",
    "    weighted_classify(train_data, test_data[i], 10, train_label)\n",
    "    print(\"True class: \"+ flowers[int(test_label[i])])"
   ]
  },
  {
   "cell_type": "markdown",
   "metadata": {},
   "source": [
    "## -------------------------------------과제 끝 ----------------------------------------------------"
   ]
  },
  {
   "cell_type": "markdown",
   "metadata": {},
   "source": [
    "# !!!번외!!!! -> distance측정을 다르게 하였습니다. 처음에 과제를 시작할때 pandas로 해보았는데, 흥미로워 남겨두었습니다!!"
   ]
  },
  {
   "cell_type": "markdown",
   "metadata": {},
   "source": [
    "### iris data를 다루기 쉽게 pandas dataframe으로 바꿔준다"
   ]
  },
  {
   "cell_type": "code",
   "execution_count": 30,
   "metadata": {},
   "outputs": [],
   "source": [
    "import pandas as pd"
   ]
  },
  {
   "cell_type": "code",
   "execution_count": 31,
   "metadata": {},
   "outputs": [],
   "source": [
    "iris_df = pd.DataFrame(data = iris.data, columns = iris.feature_names)\n",
    "iris_df['Target'] = iris.target"
   ]
  },
  {
   "cell_type": "code",
   "execution_count": 32,
   "metadata": {
    "scrolled": true
   },
   "outputs": [
    {
     "data": {
      "text/html": [
       "<div>\n",
       "<style scoped>\n",
       "    .dataframe tbody tr th:only-of-type {\n",
       "        vertical-align: middle;\n",
       "    }\n",
       "\n",
       "    .dataframe tbody tr th {\n",
       "        vertical-align: top;\n",
       "    }\n",
       "\n",
       "    .dataframe thead th {\n",
       "        text-align: right;\n",
       "    }\n",
       "</style>\n",
       "<table border=\"1\" class=\"dataframe\">\n",
       "  <thead>\n",
       "    <tr style=\"text-align: right;\">\n",
       "      <th></th>\n",
       "      <th>sepal length (cm)</th>\n",
       "      <th>sepal width (cm)</th>\n",
       "      <th>petal length (cm)</th>\n",
       "      <th>petal width (cm)</th>\n",
       "      <th>Target</th>\n",
       "    </tr>\n",
       "  </thead>\n",
       "  <tbody>\n",
       "    <tr>\n",
       "      <th>0</th>\n",
       "      <td>5.1</td>\n",
       "      <td>3.5</td>\n",
       "      <td>1.4</td>\n",
       "      <td>0.2</td>\n",
       "      <td>0</td>\n",
       "    </tr>\n",
       "    <tr>\n",
       "      <th>1</th>\n",
       "      <td>4.9</td>\n",
       "      <td>3.0</td>\n",
       "      <td>1.4</td>\n",
       "      <td>0.2</td>\n",
       "      <td>0</td>\n",
       "    </tr>\n",
       "    <tr>\n",
       "      <th>2</th>\n",
       "      <td>4.7</td>\n",
       "      <td>3.2</td>\n",
       "      <td>1.3</td>\n",
       "      <td>0.2</td>\n",
       "      <td>0</td>\n",
       "    </tr>\n",
       "    <tr>\n",
       "      <th>3</th>\n",
       "      <td>4.6</td>\n",
       "      <td>3.1</td>\n",
       "      <td>1.5</td>\n",
       "      <td>0.2</td>\n",
       "      <td>0</td>\n",
       "    </tr>\n",
       "    <tr>\n",
       "      <th>4</th>\n",
       "      <td>5.0</td>\n",
       "      <td>3.6</td>\n",
       "      <td>1.4</td>\n",
       "      <td>0.2</td>\n",
       "      <td>0</td>\n",
       "    </tr>\n",
       "  </tbody>\n",
       "</table>\n",
       "</div>"
      ],
      "text/plain": [
       "   sepal length (cm)  sepal width (cm)  petal length (cm)  petal width (cm)  \\\n",
       "0                5.1               3.5                1.4               0.2   \n",
       "1                4.9               3.0                1.4               0.2   \n",
       "2                4.7               3.2                1.3               0.2   \n",
       "3                4.6               3.1                1.5               0.2   \n",
       "4                5.0               3.6                1.4               0.2   \n",
       "\n",
       "   Target  \n",
       "0       0  \n",
       "1       0  \n",
       "2       0  \n",
       "3       0  \n",
       "4       0  "
      ]
     },
     "execution_count": 32,
     "metadata": {},
     "output_type": "execute_result"
    }
   ],
   "source": [
    "iris_df.head()"
   ]
  },
  {
   "cell_type": "code",
   "execution_count": 33,
   "metadata": {},
   "outputs": [
    {
     "data": {
      "text/plain": [
       "(150, 5)"
      ]
     },
     "execution_count": 33,
     "metadata": {},
     "output_type": "execute_result"
    }
   ],
   "source": [
    "iris_df.shape"
   ]
  },
  {
   "cell_type": "code",
   "execution_count": 34,
   "metadata": {},
   "outputs": [
    {
     "data": {
      "text/html": [
       "<div>\n",
       "<style scoped>\n",
       "    .dataframe tbody tr th:only-of-type {\n",
       "        vertical-align: middle;\n",
       "    }\n",
       "\n",
       "    .dataframe tbody tr th {\n",
       "        vertical-align: top;\n",
       "    }\n",
       "\n",
       "    .dataframe thead th {\n",
       "        text-align: right;\n",
       "    }\n",
       "</style>\n",
       "<table border=\"1\" class=\"dataframe\">\n",
       "  <thead>\n",
       "    <tr style=\"text-align: right;\">\n",
       "      <th></th>\n",
       "      <th>sepal length (cm)</th>\n",
       "      <th>sepal width (cm)</th>\n",
       "      <th>petal length (cm)</th>\n",
       "      <th>petal width (cm)</th>\n",
       "      <th>Target</th>\n",
       "    </tr>\n",
       "  </thead>\n",
       "  <tbody>\n",
       "    <tr>\n",
       "      <th>0</th>\n",
       "      <td>5.1</td>\n",
       "      <td>3.5</td>\n",
       "      <td>1.4</td>\n",
       "      <td>0.2</td>\n",
       "      <td>0</td>\n",
       "    </tr>\n",
       "    <tr>\n",
       "      <th>1</th>\n",
       "      <td>4.9</td>\n",
       "      <td>3.0</td>\n",
       "      <td>1.4</td>\n",
       "      <td>0.2</td>\n",
       "      <td>0</td>\n",
       "    </tr>\n",
       "    <tr>\n",
       "      <th>2</th>\n",
       "      <td>4.7</td>\n",
       "      <td>3.2</td>\n",
       "      <td>1.3</td>\n",
       "      <td>0.2</td>\n",
       "      <td>0</td>\n",
       "    </tr>\n",
       "    <tr>\n",
       "      <th>3</th>\n",
       "      <td>4.6</td>\n",
       "      <td>3.1</td>\n",
       "      <td>1.5</td>\n",
       "      <td>0.2</td>\n",
       "      <td>0</td>\n",
       "    </tr>\n",
       "    <tr>\n",
       "      <th>4</th>\n",
       "      <td>5.0</td>\n",
       "      <td>3.6</td>\n",
       "      <td>1.4</td>\n",
       "      <td>0.2</td>\n",
       "      <td>0</td>\n",
       "    </tr>\n",
       "    <tr>\n",
       "      <th>...</th>\n",
       "      <td>...</td>\n",
       "      <td>...</td>\n",
       "      <td>...</td>\n",
       "      <td>...</td>\n",
       "      <td>...</td>\n",
       "    </tr>\n",
       "    <tr>\n",
       "      <th>145</th>\n",
       "      <td>6.7</td>\n",
       "      <td>3.0</td>\n",
       "      <td>5.2</td>\n",
       "      <td>2.3</td>\n",
       "      <td>2</td>\n",
       "    </tr>\n",
       "    <tr>\n",
       "      <th>146</th>\n",
       "      <td>6.3</td>\n",
       "      <td>2.5</td>\n",
       "      <td>5.0</td>\n",
       "      <td>1.9</td>\n",
       "      <td>2</td>\n",
       "    </tr>\n",
       "    <tr>\n",
       "      <th>147</th>\n",
       "      <td>6.5</td>\n",
       "      <td>3.0</td>\n",
       "      <td>5.2</td>\n",
       "      <td>2.0</td>\n",
       "      <td>2</td>\n",
       "    </tr>\n",
       "    <tr>\n",
       "      <th>148</th>\n",
       "      <td>6.2</td>\n",
       "      <td>3.4</td>\n",
       "      <td>5.4</td>\n",
       "      <td>2.3</td>\n",
       "      <td>2</td>\n",
       "    </tr>\n",
       "    <tr>\n",
       "      <th>149</th>\n",
       "      <td>5.9</td>\n",
       "      <td>3.0</td>\n",
       "      <td>5.1</td>\n",
       "      <td>1.8</td>\n",
       "      <td>2</td>\n",
       "    </tr>\n",
       "  </tbody>\n",
       "</table>\n",
       "<p>150 rows × 5 columns</p>\n",
       "</div>"
      ],
      "text/plain": [
       "     sepal length (cm)  sepal width (cm)  petal length (cm)  petal width (cm)  \\\n",
       "0                  5.1               3.5                1.4               0.2   \n",
       "1                  4.9               3.0                1.4               0.2   \n",
       "2                  4.7               3.2                1.3               0.2   \n",
       "3                  4.6               3.1                1.5               0.2   \n",
       "4                  5.0               3.6                1.4               0.2   \n",
       "..                 ...               ...                ...               ...   \n",
       "145                6.7               3.0                5.2               2.3   \n",
       "146                6.3               2.5                5.0               1.9   \n",
       "147                6.5               3.0                5.2               2.0   \n",
       "148                6.2               3.4                5.4               2.3   \n",
       "149                5.9               3.0                5.1               1.8   \n",
       "\n",
       "     Target  \n",
       "0         0  \n",
       "1         0  \n",
       "2         0  \n",
       "3         0  \n",
       "4         0  \n",
       "..      ...  \n",
       "145       2  \n",
       "146       2  \n",
       "147       2  \n",
       "148       2  \n",
       "149       2  \n",
       "\n",
       "[150 rows x 5 columns]"
      ]
     },
     "execution_count": 34,
     "metadata": {},
     "output_type": "execute_result"
    }
   ],
   "source": [
    "iris_df"
   ]
  },
  {
   "cell_type": "code",
   "execution_count": 35,
   "metadata": {},
   "outputs": [
    {
     "name": "stdout",
     "output_type": "stream",
     "text": [
      "<class 'pandas.core.frame.DataFrame'>\n",
      "RangeIndex: 150 entries, 0 to 149\n",
      "Data columns (total 5 columns):\n",
      " #   Column             Non-Null Count  Dtype  \n",
      "---  ------             --------------  -----  \n",
      " 0   sepal length (cm)  150 non-null    float64\n",
      " 1   sepal width (cm)   150 non-null    float64\n",
      " 2   petal length (cm)  150 non-null    float64\n",
      " 3   petal width (cm)   150 non-null    float64\n",
      " 4   Target             150 non-null    int32  \n",
      "dtypes: float64(4), int32(1)\n",
      "memory usage: 5.4 KB\n"
     ]
    }
   ],
   "source": [
    "iris_df.info()"
   ]
  },
  {
   "cell_type": "code",
   "execution_count": 36,
   "metadata": {},
   "outputs": [],
   "source": [
    "label = iris_df['Target']\n",
    "label = pd.DataFrame(label)"
   ]
  },
  {
   "cell_type": "code",
   "execution_count": 37,
   "metadata": {},
   "outputs": [
    {
     "data": {
      "text/html": [
       "<div>\n",
       "<style scoped>\n",
       "    .dataframe tbody tr th:only-of-type {\n",
       "        vertical-align: middle;\n",
       "    }\n",
       "\n",
       "    .dataframe tbody tr th {\n",
       "        vertical-align: top;\n",
       "    }\n",
       "\n",
       "    .dataframe thead th {\n",
       "        text-align: right;\n",
       "    }\n",
       "</style>\n",
       "<table border=\"1\" class=\"dataframe\">\n",
       "  <thead>\n",
       "    <tr style=\"text-align: right;\">\n",
       "      <th></th>\n",
       "      <th>Target</th>\n",
       "    </tr>\n",
       "  </thead>\n",
       "  <tbody>\n",
       "    <tr>\n",
       "      <th>0</th>\n",
       "      <td>0</td>\n",
       "    </tr>\n",
       "    <tr>\n",
       "      <th>1</th>\n",
       "      <td>0</td>\n",
       "    </tr>\n",
       "    <tr>\n",
       "      <th>2</th>\n",
       "      <td>0</td>\n",
       "    </tr>\n",
       "    <tr>\n",
       "      <th>3</th>\n",
       "      <td>0</td>\n",
       "    </tr>\n",
       "    <tr>\n",
       "      <th>4</th>\n",
       "      <td>0</td>\n",
       "    </tr>\n",
       "    <tr>\n",
       "      <th>...</th>\n",
       "      <td>...</td>\n",
       "    </tr>\n",
       "    <tr>\n",
       "      <th>145</th>\n",
       "      <td>2</td>\n",
       "    </tr>\n",
       "    <tr>\n",
       "      <th>146</th>\n",
       "      <td>2</td>\n",
       "    </tr>\n",
       "    <tr>\n",
       "      <th>147</th>\n",
       "      <td>2</td>\n",
       "    </tr>\n",
       "    <tr>\n",
       "      <th>148</th>\n",
       "      <td>2</td>\n",
       "    </tr>\n",
       "    <tr>\n",
       "      <th>149</th>\n",
       "      <td>2</td>\n",
       "    </tr>\n",
       "  </tbody>\n",
       "</table>\n",
       "<p>150 rows × 1 columns</p>\n",
       "</div>"
      ],
      "text/plain": [
       "     Target\n",
       "0         0\n",
       "1         0\n",
       "2         0\n",
       "3         0\n",
       "4         0\n",
       "..      ...\n",
       "145       2\n",
       "146       2\n",
       "147       2\n",
       "148       2\n",
       "149       2\n",
       "\n",
       "[150 rows x 1 columns]"
      ]
     },
     "execution_count": 37,
     "metadata": {},
     "output_type": "execute_result"
    }
   ],
   "source": [
    "label"
   ]
  },
  {
   "cell_type": "code",
   "execution_count": 38,
   "metadata": {},
   "outputs": [],
   "source": [
    "iris_df.drop(columns=['Target'], inplace=True)"
   ]
  },
  {
   "cell_type": "code",
   "execution_count": 39,
   "metadata": {},
   "outputs": [
    {
     "data": {
      "text/html": [
       "<div>\n",
       "<style scoped>\n",
       "    .dataframe tbody tr th:only-of-type {\n",
       "        vertical-align: middle;\n",
       "    }\n",
       "\n",
       "    .dataframe tbody tr th {\n",
       "        vertical-align: top;\n",
       "    }\n",
       "\n",
       "    .dataframe thead th {\n",
       "        text-align: right;\n",
       "    }\n",
       "</style>\n",
       "<table border=\"1\" class=\"dataframe\">\n",
       "  <thead>\n",
       "    <tr style=\"text-align: right;\">\n",
       "      <th></th>\n",
       "      <th>sepal length (cm)</th>\n",
       "      <th>sepal width (cm)</th>\n",
       "      <th>petal length (cm)</th>\n",
       "      <th>petal width (cm)</th>\n",
       "    </tr>\n",
       "  </thead>\n",
       "  <tbody>\n",
       "    <tr>\n",
       "      <th>0</th>\n",
       "      <td>5.1</td>\n",
       "      <td>3.5</td>\n",
       "      <td>1.4</td>\n",
       "      <td>0.2</td>\n",
       "    </tr>\n",
       "    <tr>\n",
       "      <th>1</th>\n",
       "      <td>4.9</td>\n",
       "      <td>3.0</td>\n",
       "      <td>1.4</td>\n",
       "      <td>0.2</td>\n",
       "    </tr>\n",
       "    <tr>\n",
       "      <th>2</th>\n",
       "      <td>4.7</td>\n",
       "      <td>3.2</td>\n",
       "      <td>1.3</td>\n",
       "      <td>0.2</td>\n",
       "    </tr>\n",
       "    <tr>\n",
       "      <th>3</th>\n",
       "      <td>4.6</td>\n",
       "      <td>3.1</td>\n",
       "      <td>1.5</td>\n",
       "      <td>0.2</td>\n",
       "    </tr>\n",
       "    <tr>\n",
       "      <th>4</th>\n",
       "      <td>5.0</td>\n",
       "      <td>3.6</td>\n",
       "      <td>1.4</td>\n",
       "      <td>0.2</td>\n",
       "    </tr>\n",
       "    <tr>\n",
       "      <th>...</th>\n",
       "      <td>...</td>\n",
       "      <td>...</td>\n",
       "      <td>...</td>\n",
       "      <td>...</td>\n",
       "    </tr>\n",
       "    <tr>\n",
       "      <th>145</th>\n",
       "      <td>6.7</td>\n",
       "      <td>3.0</td>\n",
       "      <td>5.2</td>\n",
       "      <td>2.3</td>\n",
       "    </tr>\n",
       "    <tr>\n",
       "      <th>146</th>\n",
       "      <td>6.3</td>\n",
       "      <td>2.5</td>\n",
       "      <td>5.0</td>\n",
       "      <td>1.9</td>\n",
       "    </tr>\n",
       "    <tr>\n",
       "      <th>147</th>\n",
       "      <td>6.5</td>\n",
       "      <td>3.0</td>\n",
       "      <td>5.2</td>\n",
       "      <td>2.0</td>\n",
       "    </tr>\n",
       "    <tr>\n",
       "      <th>148</th>\n",
       "      <td>6.2</td>\n",
       "      <td>3.4</td>\n",
       "      <td>5.4</td>\n",
       "      <td>2.3</td>\n",
       "    </tr>\n",
       "    <tr>\n",
       "      <th>149</th>\n",
       "      <td>5.9</td>\n",
       "      <td>3.0</td>\n",
       "      <td>5.1</td>\n",
       "      <td>1.8</td>\n",
       "    </tr>\n",
       "  </tbody>\n",
       "</table>\n",
       "<p>150 rows × 4 columns</p>\n",
       "</div>"
      ],
      "text/plain": [
       "     sepal length (cm)  sepal width (cm)  petal length (cm)  petal width (cm)\n",
       "0                  5.1               3.5                1.4               0.2\n",
       "1                  4.9               3.0                1.4               0.2\n",
       "2                  4.7               3.2                1.3               0.2\n",
       "3                  4.6               3.1                1.5               0.2\n",
       "4                  5.0               3.6                1.4               0.2\n",
       "..                 ...               ...                ...               ...\n",
       "145                6.7               3.0                5.2               2.3\n",
       "146                6.3               2.5                5.0               1.9\n",
       "147                6.5               3.0                5.2               2.0\n",
       "148                6.2               3.4                5.4               2.3\n",
       "149                5.9               3.0                5.1               1.8\n",
       "\n",
       "[150 rows x 4 columns]"
      ]
     },
     "execution_count": 39,
     "metadata": {},
     "output_type": "execute_result"
    }
   ],
   "source": [
    "iris_df"
   ]
  },
  {
   "cell_type": "markdown",
   "metadata": {},
   "source": [
    "### train과 test를 split 해준다"
   ]
  },
  {
   "cell_type": "code",
   "execution_count": 40,
   "metadata": {
    "scrolled": true
   },
   "outputs": [],
   "source": [
    "index = []\n",
    "for k in range(0,150):\n",
    "    if (k % 15) == 14:\n",
    "        continue\n",
    "    else:\n",
    "        index.append(k)"
   ]
  },
  {
   "cell_type": "code",
   "execution_count": 41,
   "metadata": {},
   "outputs": [],
   "source": [
    "data_train = iris_df.iloc[[int(i) for i in index], :]                                         "
   ]
  },
  {
   "cell_type": "code",
   "execution_count": 42,
   "metadata": {},
   "outputs": [
    {
     "data": {
      "text/html": [
       "<div>\n",
       "<style scoped>\n",
       "    .dataframe tbody tr th:only-of-type {\n",
       "        vertical-align: middle;\n",
       "    }\n",
       "\n",
       "    .dataframe tbody tr th {\n",
       "        vertical-align: top;\n",
       "    }\n",
       "\n",
       "    .dataframe thead th {\n",
       "        text-align: right;\n",
       "    }\n",
       "</style>\n",
       "<table border=\"1\" class=\"dataframe\">\n",
       "  <thead>\n",
       "    <tr style=\"text-align: right;\">\n",
       "      <th></th>\n",
       "      <th>sepal length (cm)</th>\n",
       "      <th>sepal width (cm)</th>\n",
       "      <th>petal length (cm)</th>\n",
       "      <th>petal width (cm)</th>\n",
       "    </tr>\n",
       "  </thead>\n",
       "  <tbody>\n",
       "    <tr>\n",
       "      <th>0</th>\n",
       "      <td>5.1</td>\n",
       "      <td>3.5</td>\n",
       "      <td>1.4</td>\n",
       "      <td>0.2</td>\n",
       "    </tr>\n",
       "    <tr>\n",
       "      <th>1</th>\n",
       "      <td>4.9</td>\n",
       "      <td>3.0</td>\n",
       "      <td>1.4</td>\n",
       "      <td>0.2</td>\n",
       "    </tr>\n",
       "    <tr>\n",
       "      <th>2</th>\n",
       "      <td>4.7</td>\n",
       "      <td>3.2</td>\n",
       "      <td>1.3</td>\n",
       "      <td>0.2</td>\n",
       "    </tr>\n",
       "    <tr>\n",
       "      <th>3</th>\n",
       "      <td>4.6</td>\n",
       "      <td>3.1</td>\n",
       "      <td>1.5</td>\n",
       "      <td>0.2</td>\n",
       "    </tr>\n",
       "    <tr>\n",
       "      <th>4</th>\n",
       "      <td>5.0</td>\n",
       "      <td>3.6</td>\n",
       "      <td>1.4</td>\n",
       "      <td>0.2</td>\n",
       "    </tr>\n",
       "    <tr>\n",
       "      <th>...</th>\n",
       "      <td>...</td>\n",
       "      <td>...</td>\n",
       "      <td>...</td>\n",
       "      <td>...</td>\n",
       "    </tr>\n",
       "    <tr>\n",
       "      <th>144</th>\n",
       "      <td>6.7</td>\n",
       "      <td>3.3</td>\n",
       "      <td>5.7</td>\n",
       "      <td>2.5</td>\n",
       "    </tr>\n",
       "    <tr>\n",
       "      <th>145</th>\n",
       "      <td>6.7</td>\n",
       "      <td>3.0</td>\n",
       "      <td>5.2</td>\n",
       "      <td>2.3</td>\n",
       "    </tr>\n",
       "    <tr>\n",
       "      <th>146</th>\n",
       "      <td>6.3</td>\n",
       "      <td>2.5</td>\n",
       "      <td>5.0</td>\n",
       "      <td>1.9</td>\n",
       "    </tr>\n",
       "    <tr>\n",
       "      <th>147</th>\n",
       "      <td>6.5</td>\n",
       "      <td>3.0</td>\n",
       "      <td>5.2</td>\n",
       "      <td>2.0</td>\n",
       "    </tr>\n",
       "    <tr>\n",
       "      <th>148</th>\n",
       "      <td>6.2</td>\n",
       "      <td>3.4</td>\n",
       "      <td>5.4</td>\n",
       "      <td>2.3</td>\n",
       "    </tr>\n",
       "  </tbody>\n",
       "</table>\n",
       "<p>140 rows × 4 columns</p>\n",
       "</div>"
      ],
      "text/plain": [
       "     sepal length (cm)  sepal width (cm)  petal length (cm)  petal width (cm)\n",
       "0                  5.1               3.5                1.4               0.2\n",
       "1                  4.9               3.0                1.4               0.2\n",
       "2                  4.7               3.2                1.3               0.2\n",
       "3                  4.6               3.1                1.5               0.2\n",
       "4                  5.0               3.6                1.4               0.2\n",
       "..                 ...               ...                ...               ...\n",
       "144                6.7               3.3                5.7               2.5\n",
       "145                6.7               3.0                5.2               2.3\n",
       "146                6.3               2.5                5.0               1.9\n",
       "147                6.5               3.0                5.2               2.0\n",
       "148                6.2               3.4                5.4               2.3\n",
       "\n",
       "[140 rows x 4 columns]"
      ]
     },
     "execution_count": 42,
     "metadata": {},
     "output_type": "execute_result"
    }
   ],
   "source": [
    "data_train"
   ]
  },
  {
   "cell_type": "code",
   "execution_count": 43,
   "metadata": {},
   "outputs": [],
   "source": [
    "data_test = iris_df.iloc[[i for i in range(0,150) if i not in index], :]"
   ]
  },
  {
   "cell_type": "code",
   "execution_count": 44,
   "metadata": {},
   "outputs": [
    {
     "data": {
      "text/html": [
       "<div>\n",
       "<style scoped>\n",
       "    .dataframe tbody tr th:only-of-type {\n",
       "        vertical-align: middle;\n",
       "    }\n",
       "\n",
       "    .dataframe tbody tr th {\n",
       "        vertical-align: top;\n",
       "    }\n",
       "\n",
       "    .dataframe thead th {\n",
       "        text-align: right;\n",
       "    }\n",
       "</style>\n",
       "<table border=\"1\" class=\"dataframe\">\n",
       "  <thead>\n",
       "    <tr style=\"text-align: right;\">\n",
       "      <th></th>\n",
       "      <th>sepal length (cm)</th>\n",
       "      <th>sepal width (cm)</th>\n",
       "      <th>petal length (cm)</th>\n",
       "      <th>petal width (cm)</th>\n",
       "    </tr>\n",
       "  </thead>\n",
       "  <tbody>\n",
       "    <tr>\n",
       "      <th>14</th>\n",
       "      <td>5.8</td>\n",
       "      <td>4.0</td>\n",
       "      <td>1.2</td>\n",
       "      <td>0.2</td>\n",
       "    </tr>\n",
       "    <tr>\n",
       "      <th>29</th>\n",
       "      <td>4.7</td>\n",
       "      <td>3.2</td>\n",
       "      <td>1.6</td>\n",
       "      <td>0.2</td>\n",
       "    </tr>\n",
       "    <tr>\n",
       "      <th>44</th>\n",
       "      <td>5.1</td>\n",
       "      <td>3.8</td>\n",
       "      <td>1.9</td>\n",
       "      <td>0.4</td>\n",
       "    </tr>\n",
       "    <tr>\n",
       "      <th>59</th>\n",
       "      <td>5.2</td>\n",
       "      <td>2.7</td>\n",
       "      <td>3.9</td>\n",
       "      <td>1.4</td>\n",
       "    </tr>\n",
       "    <tr>\n",
       "      <th>74</th>\n",
       "      <td>6.4</td>\n",
       "      <td>2.9</td>\n",
       "      <td>4.3</td>\n",
       "      <td>1.3</td>\n",
       "    </tr>\n",
       "    <tr>\n",
       "      <th>89</th>\n",
       "      <td>5.5</td>\n",
       "      <td>2.5</td>\n",
       "      <td>4.0</td>\n",
       "      <td>1.3</td>\n",
       "    </tr>\n",
       "    <tr>\n",
       "      <th>104</th>\n",
       "      <td>6.5</td>\n",
       "      <td>3.0</td>\n",
       "      <td>5.8</td>\n",
       "      <td>2.2</td>\n",
       "    </tr>\n",
       "    <tr>\n",
       "      <th>119</th>\n",
       "      <td>6.0</td>\n",
       "      <td>2.2</td>\n",
       "      <td>5.0</td>\n",
       "      <td>1.5</td>\n",
       "    </tr>\n",
       "    <tr>\n",
       "      <th>134</th>\n",
       "      <td>6.1</td>\n",
       "      <td>2.6</td>\n",
       "      <td>5.6</td>\n",
       "      <td>1.4</td>\n",
       "    </tr>\n",
       "    <tr>\n",
       "      <th>149</th>\n",
       "      <td>5.9</td>\n",
       "      <td>3.0</td>\n",
       "      <td>5.1</td>\n",
       "      <td>1.8</td>\n",
       "    </tr>\n",
       "  </tbody>\n",
       "</table>\n",
       "</div>"
      ],
      "text/plain": [
       "     sepal length (cm)  sepal width (cm)  petal length (cm)  petal width (cm)\n",
       "14                 5.8               4.0                1.2               0.2\n",
       "29                 4.7               3.2                1.6               0.2\n",
       "44                 5.1               3.8                1.9               0.4\n",
       "59                 5.2               2.7                3.9               1.4\n",
       "74                 6.4               2.9                4.3               1.3\n",
       "89                 5.5               2.5                4.0               1.3\n",
       "104                6.5               3.0                5.8               2.2\n",
       "119                6.0               2.2                5.0               1.5\n",
       "134                6.1               2.6                5.6               1.4\n",
       "149                5.9               3.0                5.1               1.8"
      ]
     },
     "execution_count": 44,
     "metadata": {},
     "output_type": "execute_result"
    }
   ],
   "source": [
    "data_test"
   ]
  },
  {
   "cell_type": "code",
   "execution_count": 45,
   "metadata": {},
   "outputs": [],
   "source": [
    "label_train = label.iloc[[int(i) for i in index], 0] "
   ]
  },
  {
   "cell_type": "code",
   "execution_count": 46,
   "metadata": {
    "scrolled": true
   },
   "outputs": [
    {
     "data": {
      "text/plain": [
       "0      0\n",
       "1      0\n",
       "2      0\n",
       "3      0\n",
       "4      0\n",
       "      ..\n",
       "144    2\n",
       "145    2\n",
       "146    2\n",
       "147    2\n",
       "148    2\n",
       "Name: Target, Length: 140, dtype: int32"
      ]
     },
     "execution_count": 46,
     "metadata": {},
     "output_type": "execute_result"
    }
   ],
   "source": [
    "label_train"
   ]
  },
  {
   "cell_type": "code",
   "execution_count": 47,
   "metadata": {},
   "outputs": [],
   "source": [
    "label_test = label.iloc[[i for i in range(0,150) if i not in index], :]"
   ]
  },
  {
   "cell_type": "code",
   "execution_count": 48,
   "metadata": {},
   "outputs": [
    {
     "data": {
      "text/html": [
       "<div>\n",
       "<style scoped>\n",
       "    .dataframe tbody tr th:only-of-type {\n",
       "        vertical-align: middle;\n",
       "    }\n",
       "\n",
       "    .dataframe tbody tr th {\n",
       "        vertical-align: top;\n",
       "    }\n",
       "\n",
       "    .dataframe thead th {\n",
       "        text-align: right;\n",
       "    }\n",
       "</style>\n",
       "<table border=\"1\" class=\"dataframe\">\n",
       "  <thead>\n",
       "    <tr style=\"text-align: right;\">\n",
       "      <th></th>\n",
       "      <th>Target</th>\n",
       "    </tr>\n",
       "  </thead>\n",
       "  <tbody>\n",
       "    <tr>\n",
       "      <th>14</th>\n",
       "      <td>0</td>\n",
       "    </tr>\n",
       "    <tr>\n",
       "      <th>29</th>\n",
       "      <td>0</td>\n",
       "    </tr>\n",
       "    <tr>\n",
       "      <th>44</th>\n",
       "      <td>0</td>\n",
       "    </tr>\n",
       "    <tr>\n",
       "      <th>59</th>\n",
       "      <td>1</td>\n",
       "    </tr>\n",
       "    <tr>\n",
       "      <th>74</th>\n",
       "      <td>1</td>\n",
       "    </tr>\n",
       "    <tr>\n",
       "      <th>89</th>\n",
       "      <td>1</td>\n",
       "    </tr>\n",
       "    <tr>\n",
       "      <th>104</th>\n",
       "      <td>2</td>\n",
       "    </tr>\n",
       "    <tr>\n",
       "      <th>119</th>\n",
       "      <td>2</td>\n",
       "    </tr>\n",
       "    <tr>\n",
       "      <th>134</th>\n",
       "      <td>2</td>\n",
       "    </tr>\n",
       "    <tr>\n",
       "      <th>149</th>\n",
       "      <td>2</td>\n",
       "    </tr>\n",
       "  </tbody>\n",
       "</table>\n",
       "</div>"
      ],
      "text/plain": [
       "     Target\n",
       "14        0\n",
       "29        0\n",
       "44        0\n",
       "59        1\n",
       "74        1\n",
       "89        1\n",
       "104       2\n",
       "119       2\n",
       "134       2\n",
       "149       2"
      ]
     },
     "execution_count": 48,
     "metadata": {},
     "output_type": "execute_result"
    }
   ],
   "source": [
    "label_test"
   ]
  },
  {
   "cell_type": "markdown",
   "metadata": {},
   "source": [
    "### KNN 알고리즘 구현"
   ]
  },
  {
   "cell_type": "code",
   "execution_count": 49,
   "metadata": {},
   "outputs": [],
   "source": [
    "flowers = {0: 'Setosa', 1: 'Versicolor', 2:'Virginica'}"
   ]
  },
  {
   "cell_type": "code",
   "execution_count": 50,
   "metadata": {},
   "outputs": [],
   "source": [
    "def classify(test_data, train_data, labels , k): #test데이터는 1행이 들어올거고, train데이터는 train데이터 전체 \n",
    "    #inpu는 분류 대상, data는 훈련을 위한 예제의 전체 행렬, labels는 분류 답들(0,1,2), k는 최근접 이웃 수\n",
    "    #data_set_size = data_set.shape[0]\n",
    "    diff = test_data - train_data\n",
    "    diff_sq = diff**2\n",
    "    row_sum = diff_sq.sum(axis = 1)\n",
    "    distance = np.sqrt(row_sum)\n",
    "    sort_dist = distance.argsort()\n",
    "    #print(sort_dist)\n",
    "    vote=[]\n",
    "    for i in range(k):\n",
    "        vote.append(labels.iloc[int(sort_dist[i])])\n",
    "    max_flower =  mode(vote)\n",
    "    print(\"Computed class: \" + str(flowers[max_flower]) + \",\", end = '')"
   ]
  },
  {
   "cell_type": "code",
   "execution_count": 51,
   "metadata": {},
   "outputs": [],
   "source": [
    "def mode(list):\n",
    "    count = 0\n",
    "    mode = 0;\n",
    "    for x in list: \n",
    "        if list.count(x) > count:\n",
    "            count = list.count(x)\n",
    "            mode = x\n",
    "\n",
    "    return mode"
   ]
  },
  {
   "cell_type": "code",
   "execution_count": 52,
   "metadata": {
    "scrolled": false
   },
   "outputs": [
    {
     "name": "stdout",
     "output_type": "stream",
     "text": [
      "Computed class: Setosa,"
     ]
    }
   ],
   "source": [
    "classify(data_test.iloc[0, :], data_train, label_train, 3)"
   ]
  },
  {
   "cell_type": "markdown",
   "metadata": {},
   "source": [
    "### k 가 3일때"
   ]
  },
  {
   "cell_type": "code",
   "execution_count": 53,
   "metadata": {
    "scrolled": true
   },
   "outputs": [
    {
     "name": "stdout",
     "output_type": "stream",
     "text": [
      "Test Data Index: 0 Computed class: Setosa,True class: Setosa\n",
      "Test Data Index: 1 Computed class: Setosa,True class: Setosa\n",
      "Test Data Index: 2 Computed class: Setosa,True class: Setosa\n",
      "Test Data Index: 3 Computed class: Versicolor,True class: Versicolor\n",
      "Test Data Index: 4 Computed class: Versicolor,True class: Versicolor\n",
      "Test Data Index: 5 Computed class: Versicolor,True class: Versicolor\n",
      "Test Data Index: 6 Computed class: Virginica,True class: Virginica\n",
      "Test Data Index: 7 Computed class: Versicolor,True class: Virginica\n",
      "Test Data Index: 8 Computed class: Virginica,True class: Virginica\n",
      "Test Data Index: 9 Computed class: Virginica,True class: Virginica\n"
     ]
    }
   ],
   "source": [
    "for i in range(10):\n",
    "    print(\"Test Data Index: \"+ str(i), end=' ')\n",
    "    classify(data_test.iloc[i, :], data_train, label_train, 3)#마지막 인자는 3 or 5 or 7\n",
    "    print(\"True class: \"+ flowers[int(label_test.iloc[i])])"
   ]
  },
  {
   "cell_type": "markdown",
   "metadata": {},
   "source": [
    "### k 가 5일때"
   ]
  },
  {
   "cell_type": "code",
   "execution_count": 54,
   "metadata": {},
   "outputs": [
    {
     "name": "stdout",
     "output_type": "stream",
     "text": [
      "Test Data Index: 0 Computed class: Setosa,True class: Setosa\n",
      "Test Data Index: 1 Computed class: Setosa,True class: Setosa\n",
      "Test Data Index: 2 Computed class: Setosa,True class: Setosa\n",
      "Test Data Index: 3 Computed class: Versicolor,True class: Versicolor\n",
      "Test Data Index: 4 Computed class: Versicolor,True class: Versicolor\n",
      "Test Data Index: 5 Computed class: Versicolor,True class: Versicolor\n",
      "Test Data Index: 6 Computed class: Virginica,True class: Virginica\n",
      "Test Data Index: 7 Computed class: Versicolor,True class: Virginica\n",
      "Test Data Index: 8 Computed class: Virginica,True class: Virginica\n",
      "Test Data Index: 9 Computed class: Virginica,True class: Virginica\n"
     ]
    }
   ],
   "source": [
    "for i in range(10):\n",
    "    print(\"Test Data Index: \"+ str(i), end=' ')\n",
    "    classify(data_test.iloc[i, :], data_train, label_train, 5)#마지막 인자는 3 or 5 or 7\n",
    "    print(\"True class: \"+ flowers[int(label_test.iloc[i])])"
   ]
  },
  {
   "cell_type": "markdown",
   "metadata": {},
   "source": [
    "### k 가 7일때"
   ]
  },
  {
   "cell_type": "code",
   "execution_count": 55,
   "metadata": {},
   "outputs": [
    {
     "name": "stdout",
     "output_type": "stream",
     "text": [
      "Test Data Index: 0 Computed class: Setosa,True class: Setosa\n",
      "Test Data Index: 1 Computed class: Setosa,True class: Setosa\n",
      "Test Data Index: 2 Computed class: Setosa,True class: Setosa\n",
      "Test Data Index: 3 Computed class: Versicolor,True class: Versicolor\n",
      "Test Data Index: 4 Computed class: Versicolor,True class: Versicolor\n",
      "Test Data Index: 5 Computed class: Versicolor,True class: Versicolor\n",
      "Test Data Index: 6 Computed class: Virginica,True class: Virginica\n",
      "Test Data Index: 7 Computed class: Virginica,True class: Virginica\n",
      "Test Data Index: 8 Computed class: Virginica,True class: Virginica\n",
      "Test Data Index: 9 Computed class: Virginica,True class: Virginica\n"
     ]
    }
   ],
   "source": [
    "for i in range(10):\n",
    "    print(\"Test Data Index: \"+ str(i), end=' ')\n",
    "    classify(data_test.iloc[i, :], data_train, label_train, 7)#마지막 인자는 3 or 5 or 7\n",
    "    print(\"True class: \"+ flowers[int(label_test.iloc[i])])"
   ]
  },
  {
   "cell_type": "markdown",
   "metadata": {},
   "source": [
    "### k 가 10일때"
   ]
  },
  {
   "cell_type": "code",
   "execution_count": 56,
   "metadata": {},
   "outputs": [
    {
     "name": "stdout",
     "output_type": "stream",
     "text": [
      "Test Data Index: 0 Computed class: Setosa,True class: Setosa\n",
      "Test Data Index: 1 Computed class: Setosa,True class: Setosa\n",
      "Test Data Index: 2 Computed class: Setosa,True class: Setosa\n",
      "Test Data Index: 3 Computed class: Versicolor,True class: Versicolor\n",
      "Test Data Index: 4 Computed class: Versicolor,True class: Versicolor\n",
      "Test Data Index: 5 Computed class: Versicolor,True class: Versicolor\n",
      "Test Data Index: 6 Computed class: Virginica,True class: Virginica\n",
      "Test Data Index: 7 Computed class: Virginica,True class: Virginica\n",
      "Test Data Index: 8 Computed class: Virginica,True class: Virginica\n",
      "Test Data Index: 9 Computed class: Virginica,True class: Virginica\n"
     ]
    }
   ],
   "source": [
    "for i in range(10):\n",
    "    print(\"Test Data Index: \"+ str(i), end=' ')\n",
    "    classify(data_test.iloc[i, :], data_train, label_train, 10)#마지막 인자는 3 or 5 or 7\n",
    "    print(\"True class: \"+ flowers[int(label_test.iloc[i])])"
   ]
  }
 ],
 "metadata": {
  "kernelspec": {
   "display_name": "Python 3",
   "language": "python",
   "name": "python3"
  },
  "language_info": {
   "codemirror_mode": {
    "name": "ipython",
    "version": 3
   },
   "file_extension": ".py",
   "mimetype": "text/x-python",
   "name": "python",
   "nbconvert_exporter": "python",
   "pygments_lexer": "ipython3",
   "version": "3.7.7"
  }
 },
 "nbformat": 4,
 "nbformat_minor": 4
}
